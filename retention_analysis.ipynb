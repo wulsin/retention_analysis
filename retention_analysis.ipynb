{
 "cells": [
  {
   "cell_type": "markdown",
   "id": "ebe30b49-6178-4eda-92f5-d2846460b517",
   "metadata": {},
   "source": [
    "# Retention analysis for Sequoia Data Science Team\n",
    "Wells Wulsin\n",
    "13 Aug 2023\n"
   ]
  },
  {
   "cell_type": "markdown",
   "id": "c7897c80-5f43-4e98-8f30-95dfd22fd70f",
   "metadata": {},
   "source": [
    "## Stage 1:  Data import\n",
    "We get a warning because the boolean columns have some NaN values. We will address this in the cleaning stage below. "
   ]
  },
  {
   "cell_type": "code",
   "execution_count": 748,
   "id": "e3c19c06-3af6-49f1-86aa-5c1222772091",
   "metadata": {
    "tags": []
   },
   "outputs": [],
   "source": [
    "import pandas as pd\n",
    "import matplotlib.pyplot as plt\n",
    "import numpy as np\n",
    "import seaborn as sns\n",
    "from dateutil.relativedelta import relativedelta"
   ]
  },
  {
   "cell_type": "code",
   "execution_count": 749,
   "id": "61107f4f-2cab-4e7e-9d69-d83b756bdc05",
   "metadata": {},
   "outputs": [
    {
     "name": "stderr",
     "output_type": "stream",
     "text": [
      "/tmp/ipykernel_16748/3525752252.py:16: DtypeWarning: Columns (4,5,6,11) have mixed types. Specify dtype option on import or set low_memory=False.\n",
      "  df = pd.read_csv('dummy_customer_file.csv')\n"
     ]
    }
   ],
   "source": [
    "# We cannot apply the schema yet because some columns have NaN values\n",
    "# col_types = {\n",
    "#     'oid': 'string',\n",
    "#     'provider': 'string',\n",
    "#     'total_charges': 'float64',\n",
    "#     'signup_date': 'string',\n",
    "#     'is_canceled': 'bool',\n",
    "#     'is_active': 'bool',\n",
    "#     'is_delinquent': 'bool',\n",
    "#     'conversion_date': 'string',\n",
    "#     'cancellation_date': 'string',\n",
    "#     'current_mrr': 'float64',\n",
    "#     'personal_person_geo_country': 'string',\n",
    "#     'converted': 'bool'\n",
    "# }\n",
    "df = pd.read_csv('dummy_customer_file.csv')\n",
    "\n"
   ]
  },
  {
   "cell_type": "markdown",
   "id": "aa9c369e-71b5-4a46-a8ff-ae73b01f9d6b",
   "metadata": {
    "tags": []
   },
   "source": [
    "## Stage 2: Data cleaning\n",
    "\n",
    "Investigate each column and clean as needed. "
   ]
  },
  {
   "cell_type": "code",
   "execution_count": 750,
   "id": "1d731b4a-57cc-49eb-8937-233d2cb1c317",
   "metadata": {
    "tags": []
   },
   "outputs": [
    {
     "data": {
      "text/plain": [
       "oid                             object\n",
       "provider                        object\n",
       "total_charges                  float64\n",
       "signup_date                     object\n",
       "is_canceled                     object\n",
       "is_active                       object\n",
       "is_delinquent                   object\n",
       "conversion_date                 object\n",
       "cancellation_date               object\n",
       "current_mrr                    float64\n",
       "personal_person_geo_country     object\n",
       "converted                       object\n",
       "dtype: object"
      ]
     },
     "execution_count": 750,
     "metadata": {},
     "output_type": "execute_result"
    }
   ],
   "source": [
    "df.dtypes"
   ]
  },
  {
   "cell_type": "code",
   "execution_count": 751,
   "id": "8543d24b-972d-4065-a00c-9476ef508ffc",
   "metadata": {},
   "outputs": [
    {
     "data": {
      "text/html": [
       "<div>\n",
       "<style scoped>\n",
       "    .dataframe tbody tr th:only-of-type {\n",
       "        vertical-align: middle;\n",
       "    }\n",
       "\n",
       "    .dataframe tbody tr th {\n",
       "        vertical-align: top;\n",
       "    }\n",
       "\n",
       "    .dataframe thead th {\n",
       "        text-align: right;\n",
       "    }\n",
       "</style>\n",
       "<table border=\"1\" class=\"dataframe\">\n",
       "  <thead>\n",
       "    <tr style=\"text-align: left;\">\n",
       "      <th></th>\n",
       "      <th>oid</th>\n",
       "      <th>provider</th>\n",
       "      <th>total_charges</th>\n",
       "      <th>signup_date</th>\n",
       "      <th>is_canceled</th>\n",
       "      <th>is_active</th>\n",
       "      <th>is_delinquent</th>\n",
       "      <th>conversion_date</th>\n",
       "      <th>cancellation_date</th>\n",
       "      <th>current_mrr</th>\n",
       "      <th>personal_person_geo_country</th>\n",
       "      <th>converted</th>\n",
       "    </tr>\n",
       "  </thead>\n",
       "  <tbody>\n",
       "    <tr>\n",
       "      <th>0</th>\n",
       "      <td>273624174263463</td>\n",
       "      <td>apple</td>\n",
       "      <td>10.94</td>\n",
       "      <td>2021-04-20</td>\n",
       "      <td>True</td>\n",
       "      <td>False</td>\n",
       "      <td>False</td>\n",
       "      <td>2021-04-20</td>\n",
       "      <td>2021-05-20T12:00:00.000+00:00</td>\n",
       "      <td>0.0</td>\n",
       "      <td>France</td>\n",
       "      <td>True</td>\n",
       "    </tr>\n",
       "    <tr>\n",
       "      <th>1</th>\n",
       "      <td>532534633483904</td>\n",
       "      <td>apple</td>\n",
       "      <td>10.92</td>\n",
       "      <td>2021-04-20</td>\n",
       "      <td>True</td>\n",
       "      <td>False</td>\n",
       "      <td>False</td>\n",
       "      <td>2021-04-20</td>\n",
       "      <td>2021-06-20T12:00:00.000+00:00</td>\n",
       "      <td>0.0</td>\n",
       "      <td>United Kingdom of Great Britain and Northern I...</td>\n",
       "      <td>True</td>\n",
       "    </tr>\n",
       "    <tr>\n",
       "      <th>2</th>\n",
       "      <td>623527156674739</td>\n",
       "      <td>apple</td>\n",
       "      <td>0.00</td>\n",
       "      <td>2021-04-20</td>\n",
       "      <td>False</td>\n",
       "      <td>False</td>\n",
       "      <td>False</td>\n",
       "      <td>NaN</td>\n",
       "      <td>NaN</td>\n",
       "      <td>0.0</td>\n",
       "      <td>Germany</td>\n",
       "      <td>False</td>\n",
       "    </tr>\n",
       "  </tbody>\n",
       "</table>\n",
       "</div>"
      ],
      "text/plain": [
       "  oid              provider  total_charges signup_date is_canceled is_active  \\\n",
       "0  273624174263463  apple    10.94          2021-04-20   True       False      \n",
       "1  532534633483904  apple    10.92          2021-04-20   True       False      \n",
       "2  623527156674739  apple     0.00          2021-04-20  False       False      \n",
       "\n",
       "  is_delinquent conversion_date cancellation_date               current_mrr  \\\n",
       "0  False         2021-04-20      2021-05-20T12:00:00.000+00:00  0.0           \n",
       "1  False         2021-04-20      2021-06-20T12:00:00.000+00:00  0.0           \n",
       "2  False                NaN                                NaN  0.0           \n",
       "\n",
       "  personal_person_geo_country                        converted  \n",
       "0                                             France   True     \n",
       "1  United Kingdom of Great Britain and Northern I...   True     \n",
       "2                                            Germany  False     "
      ]
     },
     "execution_count": 751,
     "metadata": {},
     "output_type": "execute_result"
    }
   ],
   "source": [
    "df.head(3)\n"
   ]
  },
  {
   "cell_type": "code",
   "execution_count": 752,
   "id": "a32dddfc-7cf8-4fc9-a78e-6ddffec4b86c",
   "metadata": {},
   "outputs": [
    {
     "name": "stdout",
     "output_type": "stream",
     "text": [
      "The number of rows in the dataframe is: 134612\n"
     ]
    }
   ],
   "source": [
    "num_rows = len(df)\n",
    "print(f\"The number of rows in the dataframe is: {num_rows}\")"
   ]
  },
  {
   "cell_type": "markdown",
   "id": "1238656d-bc40-4f7b-a640-566c75667791",
   "metadata": {},
   "source": [
    "### Clean oid\n",
    "\n",
    "Steps: \n",
    "  1. Check the number of unique values. \n",
    "  1. Look at rows with a null oid. Since all the other columns are also null we can safely remove them. \n",
    "  1. Look at rows with duplicate oid values. There are only 6 oid values that are duplicated, out of 134602 total, and such a small fraction (0.004%) is unlikely to significantly affect the conclusions of a retention analysis. But for the sake of completeness we should make a decision about how to handle them. Normally we should consult with a subject matter expert to understand the root cause of these duplicates. In this case without access to an SME, I will make an assumption that the most correct information for each oid comes from the row with the largest value of total_charges (perhaps the other rows were generated at an earlier date and thus represent only partial information about the customer's total payments). So in the case of duplicate oid values, we will retain in the original dataframe only the row with the largest value of total_charges. "
   ]
  },
  {
   "cell_type": "code",
   "execution_count": 753,
   "id": "f11e934e-d39e-4ec7-8ba5-9dfce0581175",
   "metadata": {
    "tags": []
   },
   "outputs": [
    {
     "data": {
      "text/plain": [
       "134602"
      ]
     },
     "execution_count": 753,
     "metadata": {},
     "output_type": "execute_result"
    }
   ],
   "source": [
    "df['oid'].nunique()"
   ]
  },
  {
   "cell_type": "code",
   "execution_count": 754,
   "id": "b90b05e2-6959-44d9-8f03-04e98277111a",
   "metadata": {
    "tags": []
   },
   "outputs": [
    {
     "name": "stdout",
     "output_type": "stream",
     "text": [
      "       oid  provider  total_charges signup_date is_canceled is_active  \\\n",
      "134610  NaN  NaN     NaN             NaN         NaN         NaN        \n",
      "134611  NaN  NaN     NaN             NaN         NaN         NaN        \n",
      "\n",
      "       is_delinquent conversion_date cancellation_date  current_mrr  \\\n",
      "134610  NaN           NaN             NaN              NaN            \n",
      "134611  NaN           NaN             NaN              NaN            \n",
      "\n",
      "       personal_person_geo_country converted  \n",
      "134610  NaN                         NaN       \n",
      "134611  NaN                         NaN       \n"
     ]
    }
   ],
   "source": [
    "print(df[df['oid'].isnull()])"
   ]
  },
  {
   "cell_type": "code",
   "execution_count": 755,
   "id": "d64c3511-ce56-4e05-8230-fbae9597fbb0",
   "metadata": {
    "tags": []
   },
   "outputs": [],
   "source": [
    "df = df.dropna(subset=['oid'])"
   ]
  },
  {
   "cell_type": "code",
   "execution_count": 756,
   "id": "54de0d38-7bb3-4eb3-8ab2-7efa333695c5",
   "metadata": {
    "tags": []
   },
   "outputs": [
    {
     "name": "stdout",
     "output_type": "stream",
     "text": [
      "Number of duplicate rows: 6\n",
      "Duplicate rows:\n",
      "      oid        provider  total_charges signup_date is_canceled is_active  \\\n",
      "69649  1.484E+15  apple     7.99          2022-06-23   True       False      \n",
      "69742  1.484E+15  apple    55.93          2022-06-23  False        True      \n",
      "69774  1.484E+15  apple    59.99          2022-06-23  False        True      \n",
      "71059  1.561E+15  apple    62.56          2022-06-29  False        True      \n",
      "71298  1.561E+15  apple    59.99          2022-06-30  False        True      \n",
      "65207  1.645E+15  apple    60.32          2022-06-01  False        True      \n",
      "65223  1.645E+15  apple     0.00          2022-06-01  False       False      \n",
      "59545   1.68E+15  apple    71.91          2022-05-04  False        True      \n",
      "59747   1.68E+15  apple     0.74          2022-05-05  False        True      \n",
      "59783   1.68E+15  apple    59.99          2022-05-05  False        True      \n",
      "59645  1.736E+15  apple     0.00          2022-05-04  False       False      \n",
      "59670  1.736E+15  apple     9.85          2022-05-04   True       False      \n",
      "61994  1.743E+15  apple    55.93          2022-05-17  False        True      \n",
      "62144  1.743E+15  apple     7.99          2022-05-18   True       False      \n",
      "\n",
      "      is_delinquent conversion_date cancellation_date               \\\n",
      "69649  False         2022-06-23      2022-07-23T12:00:00.000+00:00   \n",
      "69742  False         2022-06-23                                NaN   \n",
      "69774  False         2022-06-30                                NaN   \n",
      "71059  False         2022-07-06                                NaN   \n",
      "71298  False         2022-07-07                                NaN   \n",
      "65207  False         2022-06-08                                NaN   \n",
      "65223  False                NaN                                NaN   \n",
      "59545  False         2022-05-04                                NaN   \n",
      "59747  False         2022-05-12                                NaN   \n",
      "59783  False         2022-05-12                                NaN   \n",
      "59645  False                NaN                                NaN   \n",
      "59670  False         2022-05-04      2022-06-04T12:00:00.000+00:00   \n",
      "61994  False         2022-05-17                                NaN   \n",
      "62144  False         2022-05-18      2022-06-18T12:00:00.000+00:00   \n",
      "\n",
      "       current_mrr personal_person_geo_country converted  \n",
      "69649  0.00         United States of America     True     \n",
      "69742  7.99         United States of America     True     \n",
      "69774  5.00         United States of America     True     \n",
      "71059  5.21                          Germany     True     \n",
      "71298  5.00         United States of America     True     \n",
      "65207  5.03                           Canada     True     \n",
      "65223  0.00         United States of America    False     \n",
      "59545  7.99         United States of America     True     \n",
      "59747  5.59                          Czechia     True     \n",
      "59783  5.00         United States of America     True     \n",
      "59645  0.00                            Italy    False     \n",
      "59670  0.00               Russian Federation     True     \n",
      "61994  7.99         United States of America     True     \n",
      "62144  0.00                         Zimbabwe     True     \n"
     ]
    }
   ],
   "source": [
    "duplicates = df[df['oid'].duplicated(keep=False)]\n",
    "print(\"Number of duplicate rows:\", duplicates['oid'].nunique())\n",
    "print(\"Duplicate rows:\")\n",
    "print(duplicates.sort_values(by='oid'))\n"
   ]
  },
  {
   "cell_type": "code",
   "execution_count": 757,
   "id": "5365a191-c39d-423d-bf11-19e07333c6a5",
   "metadata": {},
   "outputs": [
    {
     "name": "stdout",
     "output_type": "stream",
     "text": [
      "Number of rows: 134602\n",
      "Number of unique oid values: 134602\n"
     ]
    }
   ],
   "source": [
    "deduped = df.groupby('oid')['total_charges'].max().reset_index()\n",
    "df = df.merge(deduped, on=['oid', 'total_charges'], how='inner')\n",
    "print(\"Number of rows:\", len(df))\n",
    "print(\"Number of unique oid values:\", df['oid'].nunique())"
   ]
  },
  {
   "cell_type": "markdown",
   "id": "ed755ccb-c5e1-4bfd-9e6d-f986e573c90e",
   "metadata": {},
   "source": [
    "### Clean provider\n",
    "No cleaning is needed for the provider column. All the rows have values of \"apple\", \"stripe\", or \"google\". "
   ]
  },
  {
   "cell_type": "code",
   "execution_count": 758,
   "id": "903aa3e2-8201-4e2f-bf9e-9b5b2e8faa21",
   "metadata": {
    "tags": []
   },
   "outputs": [
    {
     "data": {
      "image/png": "[encoded data removed]",
      "text/plain": [
       "<Figure size 640x480 with 1 Axes>"
      ]
     },
     "metadata": {},
     "output_type": "display_data"
    }
   ],
   "source": [
    "df['provider'].hist(grid=False)\n",
    "plt.show()\n"
   ]
  },
  {
   "cell_type": "markdown",
   "id": "30a23c8c-1a6b-4ece-800f-9e5a5ca229c3",
   "metadata": {},
   "source": [
    "### Clean total_charges\n",
    "First check whether there are any null values and find there are none. Then plot a histogram and get the minimum and maximum values to make sure they are not unreasonable. As expected, there is a spike at 0 corresponding to customers who have not yet subscribed. We find the maximum charge to be 293.58, which is reasonable for a subscription product. The minimum charge is -119.98, which could also be reasonable if there are instances where a customer gets a refund for a special promotion. Normally we should confirm with SMEs that these negative charges are expected, but for this exercise we will assume that they are part of normal operation and thus can be retained in the analysis.  "
   ]
  },
  {
   "cell_type": "code",
   "execution_count": 759,
   "id": "d1188db2-ffd5-49d2-b5ad-4cae9dc830e8",
   "metadata": {
    "tags": []
   },
   "outputs": [
    {
     "data": {
      "text/html": [
       "<div>\n",
       "<style scoped>\n",
       "    .dataframe tbody tr th:only-of-type {\n",
       "        vertical-align: middle;\n",
       "    }\n",
       "\n",
       "    .dataframe tbody tr th {\n",
       "        vertical-align: top;\n",
       "    }\n",
       "\n",
       "    .dataframe thead th {\n",
       "        text-align: right;\n",
       "    }\n",
       "</style>\n",
       "<table border=\"1\" class=\"dataframe\">\n",
       "  <thead>\n",
       "    <tr style=\"text-align: left;\">\n",
       "      <th></th>\n",
       "      <th>oid</th>\n",
       "      <th>provider</th>\n",
       "      <th>total_charges</th>\n",
       "      <th>signup_date</th>\n",
       "      <th>is_canceled</th>\n",
       "      <th>is_active</th>\n",
       "      <th>is_delinquent</th>\n",
       "      <th>conversion_date</th>\n",
       "      <th>cancellation_date</th>\n",
       "      <th>current_mrr</th>\n",
       "      <th>personal_person_geo_country</th>\n",
       "      <th>converted</th>\n",
       "    </tr>\n",
       "  </thead>\n",
       "  <tbody>\n",
       "  </tbody>\n",
       "</table>\n",
       "</div>"
      ],
      "text/plain": [
       "Empty DataFrame\n",
       "Columns: [oid, provider, total_charges, signup_date, is_canceled, is_active, is_delinquent, conversion_date, cancellation_date, current_mrr, personal_person_geo_country, converted]\n",
       "Index: []"
      ]
     },
     "execution_count": 759,
     "metadata": {},
     "output_type": "execute_result"
    }
   ],
   "source": [
    "df[df['total_charges'].isnull()]"
   ]
  },
  {
   "cell_type": "code",
   "execution_count": 760,
   "id": "282090f4-50ca-468a-adc4-b01a35f7d9dc",
   "metadata": {
    "tags": []
   },
   "outputs": [
    {
     "data": {
      "image/png": "[encoded data removed]",
      "text/plain": [
       "<Figure size 640x480 with 1 Axes>"
      ]
     },
     "metadata": {},
     "output_type": "display_data"
    }
   ],
   "source": [
    "df['total_charges'].hist(bins=40, grid=False)\n",
    "plt.show()"
   ]
  },
  {
   "cell_type": "code",
   "execution_count": 761,
   "id": "8ed80f8b-0171-4265-b3a2-aabc67b8643c",
   "metadata": {
    "tags": []
   },
   "outputs": [
    {
     "data": {
      "text/plain": [
       "293.58"
      ]
     },
     "execution_count": 761,
     "metadata": {},
     "output_type": "execute_result"
    }
   ],
   "source": [
    "df['total_charges'].max()"
   ]
  },
  {
   "cell_type": "code",
   "execution_count": 762,
   "id": "ab39e546-e2dc-4d75-bdc2-a00d408e9749",
   "metadata": {
    "tags": []
   },
   "outputs": [
    {
     "data": {
      "text/plain": [
       "-119.98"
      ]
     },
     "execution_count": 762,
     "metadata": {},
     "output_type": "execute_result"
    }
   ],
   "source": [
    "df['total_charges'].min()"
   ]
  },
  {
   "cell_type": "markdown",
   "id": "e3884432-4ac6-44b8-930f-e42515a007b2",
   "metadata": {},
   "source": [
    "### Clean signup_date\n",
    "To perform date-related computations we need to cast this column to type datetime. Next we check for null values to ensure that all of the rows were cast appropriately. Then make a distribution of the signup dates, which shows the first signup was in April 2021, and the last signup was in January 2023. "
   ]
  },
  {
   "cell_type": "code",
   "execution_count": 763,
   "id": "33d7a6ff-8c7e-487b-9b46-040fe29e83e7",
   "metadata": {
    "tags": []
   },
   "outputs": [],
   "source": [
    "df['signup_date'] = pd.to_datetime(df['signup_date'])"
   ]
  },
  {
   "cell_type": "code",
   "execution_count": 764,
   "id": "156ea35c-09f0-457e-8279-68be02713e75",
   "metadata": {
    "tags": []
   },
   "outputs": [
    {
     "data": {
      "text/plain": [
       "0"
      ]
     },
     "execution_count": 764,
     "metadata": {},
     "output_type": "execute_result"
    }
   ],
   "source": [
    "df['signup_date'].isnull().sum()"
   ]
  },
  {
   "cell_type": "code",
   "execution_count": 765,
   "id": "6134e344-3e26-409d-b8eb-266cd4bd34e3",
   "metadata": {
    "tags": []
   },
   "outputs": [
    {
     "data": {
      "image/png": "[encoded data removed]",
      "text/plain": [
       "<Figure size 640x480 with 1 Axes>"
      ]
     },
     "metadata": {},
     "output_type": "display_data"
    }
   ],
   "source": [
    "monthly_counts = df.groupby(df['signup_date'].dt.to_period('M')).size().reset_index(name='count')\n",
    "monthly_counts.plot(x='signup_date', y='count', kind='bar', legend=None)\n",
    "plt.xlabel('Month')\n",
    "plt.ylabel('Number of Signups')\n",
    "plt.title('Number of Signups per Month')\n",
    "plt.show()\n"
   ]
  },
  {
   "cell_type": "markdown",
   "id": "6040167d-eca0-4dab-8069-3877c2acef29",
   "metadata": {},
   "source": [
    "### Clean is_canceled, is_active, is_delinquent, converted\n",
    "Convert these columns to bool's. \n",
    "\n"
   ]
  },
  {
   "cell_type": "code",
   "execution_count": 766,
   "id": "e1a9c386-e919-4dc5-a972-337c9f1964c9",
   "metadata": {
    "tags": []
   },
   "outputs": [],
   "source": [
    "df['is_canceled'] = df['is_canceled'].astype(bool)\n",
    "df['is_active'] = df['is_active'].astype(bool)\n",
    "df['is_delinquent'] = df['is_delinquent'].astype(bool)\n",
    "df['converted'] = df['converted'].astype(bool)"
   ]
  },
  {
   "cell_type": "code",
   "execution_count": 767,
   "id": "cec7d94c-ffa2-4328-acdf-8801752d05f8",
   "metadata": {
    "tags": []
   },
   "outputs": [
    {
     "data": {
      "text/plain": [
       "False    101173\n",
       "True      33429\n",
       "Name: is_canceled, dtype: int64"
      ]
     },
     "execution_count": 767,
     "metadata": {},
     "output_type": "execute_result"
    }
   ],
   "source": [
    "df['is_canceled'].value_counts()"
   ]
  },
  {
   "cell_type": "code",
   "execution_count": 768,
   "id": "fae0a7b0-2652-4c40-a6dd-721ca118a8b0",
   "metadata": {
    "tags": []
   },
   "outputs": [
    {
     "data": {
      "text/plain": [
       "False    87537\n",
       "True     47065\n",
       "Name: is_active, dtype: int64"
      ]
     },
     "execution_count": 768,
     "metadata": {},
     "output_type": "execute_result"
    }
   ],
   "source": [
    "df['is_active'].value_counts()"
   ]
  },
  {
   "cell_type": "code",
   "execution_count": 769,
   "id": "2763f40e-051e-4e59-a343-756fea293b31",
   "metadata": {
    "tags": []
   },
   "outputs": [
    {
     "data": {
      "text/plain": [
       "False    134512\n",
       "True         90\n",
       "Name: is_delinquent, dtype: int64"
      ]
     },
     "execution_count": 769,
     "metadata": {},
     "output_type": "execute_result"
    }
   ],
   "source": [
    "df['is_delinquent'].value_counts()"
   ]
  },
  {
   "cell_type": "code",
   "execution_count": 770,
   "id": "8233f3d1-60ec-4956-a3a1-d0f4592e3a00",
   "metadata": {
    "tags": []
   },
   "outputs": [
    {
     "data": {
      "text/plain": [
       "True     80753\n",
       "False    53849\n",
       "Name: converted, dtype: int64"
      ]
     },
     "execution_count": 770,
     "metadata": {},
     "output_type": "execute_result"
    }
   ],
   "source": [
    "df['converted'].value_counts()"
   ]
  },
  {
   "cell_type": "markdown",
   "id": "4eb77303-8d3e-4cb6-b430-1cdeea7385a2",
   "metadata": {},
   "source": [
    "### Clean conversion_date\n",
    "Convert from string to datetime. \n",
    "Confirm there are no null values of conversion_date when converted is True. \n",
    "Plot the distribution of conversion dates, which shows they range from April 2021 to January 2023."
   ]
  },
  {
   "cell_type": "code",
   "execution_count": 771,
   "id": "f26053aa-7c7c-45cd-bec1-4064358773cc",
   "metadata": {
    "tags": []
   },
   "outputs": [],
   "source": [
    "df['conversion_date'] = pd.to_datetime(df['conversion_date'])"
   ]
  },
  {
   "cell_type": "code",
   "execution_count": 772,
   "id": "5ea9f139-1da3-4a55-830f-6e0f2b966e50",
   "metadata": {
    "tags": []
   },
   "outputs": [
    {
     "data": {
      "text/plain": [
       "0"
      ]
     },
     "execution_count": 772,
     "metadata": {},
     "output_type": "execute_result"
    }
   ],
   "source": [
    "df[df['converted']]['conversion_date'].isnull().sum()"
   ]
  },
  {
   "cell_type": "code",
   "execution_count": 773,
   "id": "774cb101-a75e-4e78-8732-5ea9d5e5625f",
   "metadata": {
    "tags": []
   },
   "outputs": [
    {
     "data": {
      "image/png": "[encoded data removed]",
      "text/plain": [
       "<Figure size 640x480 with 1 Axes>"
      ]
     },
     "metadata": {},
     "output_type": "display_data"
    }
   ],
   "source": [
    "monthly_counts = df.groupby(df['conversion_date'].dt.to_period('M')).size().reset_index(name='count')\n",
    "monthly_counts.plot(x='conversion_date', y='count', kind='bar', legend=None)\n",
    "plt.xlabel('Month')\n",
    "plt.ylabel('Number of Conversions')\n",
    "plt.title('Number of Conversions per Month')\n",
    "plt.show()"
   ]
  },
  {
   "cell_type": "markdown",
   "id": "77de970f-b2db-4843-b96d-32ff19e14962",
   "metadata": {},
   "source": [
    "### Clean cancellation_date\n",
    "Convert the string to a datetime. \n",
    "Confirm that cancellation_date is never null when is_canceled is True.\n",
    "Plot the monthly count of cancellations, which shows they range from May 2021 to January 2023. "
   ]
  },
  {
   "cell_type": "code",
   "execution_count": 774,
   "id": "27a5424b-3a89-44f8-9a08-2152ac10e41e",
   "metadata": {
    "tags": []
   },
   "outputs": [],
   "source": [
    "df['cancellation_date'] = pd.to_datetime(df['cancellation_date']).dt.tz_localize(None)"
   ]
  },
  {
   "cell_type": "code",
   "execution_count": 775,
   "id": "a145df08-bbf7-4fa8-a0fd-f459a4a15d8b",
   "metadata": {
    "tags": []
   },
   "outputs": [
    {
     "data": {
      "text/plain": [
       "0"
      ]
     },
     "execution_count": 775,
     "metadata": {},
     "output_type": "execute_result"
    }
   ],
   "source": [
    "df[df['is_canceled']]['cancellation_date'].isnull().sum()"
   ]
  },
  {
   "cell_type": "code",
   "execution_count": 776,
   "id": "7aba0815-3695-47de-b357-b7374a994fc4",
   "metadata": {
    "tags": []
   },
   "outputs": [
    {
     "data": {
      "image/png": "[encoded data removed]",
      "text/plain": [
       "<Figure size 640x480 with 1 Axes>"
      ]
     },
     "metadata": {},
     "output_type": "display_data"
    }
   ],
   "source": [
    "monthly_counts = df.groupby(df['cancellation_date'].dt.to_period('M')).size().reset_index(name='count')\n",
    "monthly_counts.plot(x='cancellation_date', y='count', kind='bar', legend=None)\n",
    "plt.xlabel('Month')\n",
    "plt.ylabel('Number of Cancellations')\n",
    "plt.title('Number of Cancellations per Month')\n",
    "plt.show()"
   ]
  },
  {
   "cell_type": "markdown",
   "id": "6761d323-4ebb-4ff3-b06a-45741ce14cdf",
   "metadata": {},
   "source": [
    "### Clean current_mrr\n",
    "Confirm that current_mrr is never null, because customers who have never subscribed should have a value of 0, not null. \n",
    "Plot the distribution, which shows that the most common MRR is about 5, wihle the maximum is 23.14. "
   ]
  },
  {
   "cell_type": "code",
   "execution_count": 777,
   "id": "32b916c6-b9ce-4fba-9a69-fb2b2a9a8829",
   "metadata": {
    "tags": []
   },
   "outputs": [
    {
     "data": {
      "text/plain": [
       "0"
      ]
     },
     "execution_count": 777,
     "metadata": {},
     "output_type": "execute_result"
    }
   ],
   "source": [
    "df['current_mrr'].isnull().sum()"
   ]
  },
  {
   "cell_type": "code",
   "execution_count": 778,
   "id": "f47d2e06-b482-4b86-91f0-e8496f70ba44",
   "metadata": {
    "tags": []
   },
   "outputs": [
    {
     "data": {
      "text/plain": [
       "23.14"
      ]
     },
     "execution_count": 778,
     "metadata": {},
     "output_type": "execute_result"
    }
   ],
   "source": [
    "df['current_mrr'].max()"
   ]
  },
  {
   "cell_type": "code",
   "execution_count": 779,
   "id": "e42685da-bb01-4600-98cb-fc266fcb305b",
   "metadata": {
    "tags": []
   },
   "outputs": [
    {
     "data": {
      "image/png": "[encoded data removed]",
      "text/plain": [
       "<Figure size 640x480 with 1 Axes>"
      ]
     },
     "metadata": {},
     "output_type": "display_data"
    }
   ],
   "source": [
    "df['current_mrr'].hist(bins=40, grid=False)\n",
    "plt.show()"
   ]
  },
  {
   "cell_type": "markdown",
   "id": "f213a0ea-8cfc-4302-a531-6f27e7eb4b8a",
   "metadata": {},
   "source": [
    "### Clean personal_person_geo_country\n",
    "First, check for null values. There are 29107 customers with a null value for personal_person_geo_country. I reassign these to \"Unknown\" for clarity and to allow string replacement in a subsequent step. \n",
    "\n",
    "Next I get the list of all countries and the number of customers associated with each one. To harmonize country names I used my best interpretation. For example I reclassified Reunion as France, based on https://en.wikipedia.org/wiki/R%C3%A9union. There are 13 country names that are reassigned to a new harmonized name. \n",
    "\n",
    "Ideally we would implement a standardized set of country names in the source system to avoid potential data irregularities in the future. \n",
    "\n",
    "I also renamed this column to be \"country\" to shorten the code. "
   ]
  },
  {
   "cell_type": "code",
   "execution_count": 780,
   "id": "535085b1-ff9c-4a90-8ede-b06901f3b988",
   "metadata": {
    "tags": []
   },
   "outputs": [],
   "source": [
    "pd.set_option('display.max_rows', 200)"
   ]
  },
  {
   "cell_type": "code",
   "execution_count": 781,
   "id": "ffe19099-5072-4537-845f-e1bef0d7a444",
   "metadata": {
    "tags": []
   },
   "outputs": [],
   "source": [
    "df = df.rename(columns={'personal_person_geo_country': 'country'})"
   ]
  },
  {
   "cell_type": "code",
   "execution_count": 782,
   "id": "894d228b-5529-4c11-8a7e-80fc81507986",
   "metadata": {
    "tags": []
   },
   "outputs": [
    {
     "data": {
      "text/plain": [
       "29107"
      ]
     },
     "execution_count": 782,
     "metadata": {},
     "output_type": "execute_result"
    }
   ],
   "source": [
    "df['country'].isnull().sum()"
   ]
  },
  {
   "cell_type": "code",
   "execution_count": 783,
   "id": "64cbc926-9571-4377-9edc-9a6de541494b",
   "metadata": {
    "tags": []
   },
   "outputs": [],
   "source": [
    "df['country'] = df['country'].fillna('Unknown')"
   ]
  },
  {
   "cell_type": "code",
   "execution_count": 784,
   "id": "a9a8ed8b-0585-409f-b743-d80a8a1b9dbf",
   "metadata": {
    "tags": []
   },
   "outputs": [
    {
     "data": {
      "text/plain": [
       "0"
      ]
     },
     "execution_count": 784,
     "metadata": {},
     "output_type": "execute_result"
    }
   ],
   "source": [
    "df['country'].isnull().sum()"
   ]
  },
  {
   "cell_type": "code",
   "execution_count": 785,
   "id": "58de4b06-b9f8-476a-878e-364740f75ad1",
   "metadata": {
    "tags": []
   },
   "outputs": [
    {
     "data": {
      "text/html": [
       "<style type=\"text/css\">\n",
       "#T_071b8_row0_col0, #T_071b8_row0_col1, #T_071b8_row1_col0, #T_071b8_row1_col1, #T_071b8_row2_col0, #T_071b8_row2_col1, #T_071b8_row3_col0, #T_071b8_row3_col1, #T_071b8_row4_col0, #T_071b8_row4_col1, #T_071b8_row5_col0, #T_071b8_row5_col1, #T_071b8_row6_col0, #T_071b8_row6_col1, #T_071b8_row7_col0, #T_071b8_row7_col1, #T_071b8_row8_col0, #T_071b8_row8_col1, #T_071b8_row9_col0, #T_071b8_row9_col1, #T_071b8_row10_col0, #T_071b8_row10_col1, #T_071b8_row11_col0, #T_071b8_row11_col1, #T_071b8_row12_col0, #T_071b8_row12_col1, #T_071b8_row13_col0, #T_071b8_row13_col1, #T_071b8_row14_col0, #T_071b8_row14_col1, #T_071b8_row15_col0, #T_071b8_row15_col1, #T_071b8_row16_col0, #T_071b8_row16_col1, #T_071b8_row17_col0, #T_071b8_row17_col1, #T_071b8_row18_col0, #T_071b8_row18_col1, #T_071b8_row19_col0, #T_071b8_row19_col1, #T_071b8_row20_col0, #T_071b8_row20_col1, #T_071b8_row21_col0, #T_071b8_row21_col1, #T_071b8_row22_col0, #T_071b8_row22_col1, #T_071b8_row23_col0, #T_071b8_row23_col1, #T_071b8_row24_col0, #T_071b8_row24_col1, #T_071b8_row25_col0, #T_071b8_row25_col1, #T_071b8_row26_col0, #T_071b8_row26_col1, #T_071b8_row27_col0, #T_071b8_row27_col1, #T_071b8_row28_col0, #T_071b8_row28_col1, #T_071b8_row29_col0, #T_071b8_row29_col1, #T_071b8_row30_col0, #T_071b8_row30_col1, #T_071b8_row31_col0, #T_071b8_row31_col1, #T_071b8_row32_col0, #T_071b8_row32_col1, #T_071b8_row33_col0, #T_071b8_row33_col1, #T_071b8_row34_col0, #T_071b8_row34_col1, #T_071b8_row35_col0, #T_071b8_row35_col1, #T_071b8_row36_col0, #T_071b8_row36_col1, #T_071b8_row37_col0, #T_071b8_row37_col1, #T_071b8_row38_col0, #T_071b8_row38_col1, #T_071b8_row39_col0, #T_071b8_row39_col1, #T_071b8_row40_col0, #T_071b8_row40_col1, #T_071b8_row41_col0, #T_071b8_row41_col1, #T_071b8_row42_col0, #T_071b8_row42_col1, #T_071b8_row43_col0, #T_071b8_row43_col1, #T_071b8_row44_col0, #T_071b8_row44_col1, #T_071b8_row45_col0, #T_071b8_row45_col1, #T_071b8_row46_col0, #T_071b8_row46_col1, #T_071b8_row47_col0, #T_071b8_row47_col1, #T_071b8_row48_col0, #T_071b8_row48_col1, #T_071b8_row49_col0, #T_071b8_row49_col1, #T_071b8_row50_col0, #T_071b8_row50_col1, #T_071b8_row51_col0, #T_071b8_row51_col1, #T_071b8_row52_col0, #T_071b8_row52_col1, #T_071b8_row53_col0, #T_071b8_row53_col1, #T_071b8_row54_col0, #T_071b8_row54_col1, #T_071b8_row55_col0, #T_071b8_row55_col1, #T_071b8_row56_col0, #T_071b8_row56_col1, #T_071b8_row57_col0, #T_071b8_row57_col1, #T_071b8_row58_col0, #T_071b8_row58_col1, #T_071b8_row59_col0, #T_071b8_row59_col1, #T_071b8_row60_col0, #T_071b8_row60_col1, #T_071b8_row61_col0, #T_071b8_row61_col1, #T_071b8_row62_col0, #T_071b8_row62_col1, #T_071b8_row63_col0, #T_071b8_row63_col1, #T_071b8_row64_col0, #T_071b8_row64_col1, #T_071b8_row65_col0, #T_071b8_row65_col1, #T_071b8_row66_col0, #T_071b8_row66_col1, #T_071b8_row67_col0, #T_071b8_row67_col1, #T_071b8_row68_col0, #T_071b8_row68_col1, #T_071b8_row69_col0, #T_071b8_row69_col1, #T_071b8_row70_col0, #T_071b8_row70_col1, #T_071b8_row71_col0, #T_071b8_row71_col1, #T_071b8_row72_col0, #T_071b8_row72_col1, #T_071b8_row73_col0, #T_071b8_row73_col1, #T_071b8_row74_col0, #T_071b8_row74_col1, #T_071b8_row75_col0, #T_071b8_row75_col1, #T_071b8_row76_col0, #T_071b8_row76_col1, #T_071b8_row77_col0, #T_071b8_row77_col1, #T_071b8_row78_col0, #T_071b8_row78_col1, #T_071b8_row79_col0, #T_071b8_row79_col1, #T_071b8_row80_col0, #T_071b8_row80_col1, #T_071b8_row81_col0, #T_071b8_row81_col1, #T_071b8_row82_col0, #T_071b8_row82_col1, #T_071b8_row83_col0, #T_071b8_row83_col1, #T_071b8_row84_col0, #T_071b8_row84_col1, #T_071b8_row85_col0, #T_071b8_row85_col1, #T_071b8_row86_col0, #T_071b8_row86_col1, #T_071b8_row87_col0, #T_071b8_row87_col1, #T_071b8_row88_col0, #T_071b8_row88_col1, #T_071b8_row89_col0, #T_071b8_row89_col1, #T_071b8_row90_col0, #T_071b8_row90_col1, #T_071b8_row91_col0, #T_071b8_row91_col1, #T_071b8_row92_col0, #T_071b8_row92_col1, #T_071b8_row93_col0, #T_071b8_row93_col1, #T_071b8_row94_col0, #T_071b8_row94_col1, #T_071b8_row95_col0, #T_071b8_row95_col1, #T_071b8_row96_col0, #T_071b8_row96_col1, #T_071b8_row97_col0, #T_071b8_row97_col1, #T_071b8_row98_col0, #T_071b8_row98_col1, #T_071b8_row99_col0, #T_071b8_row99_col1, #T_071b8_row100_col0, #T_071b8_row100_col1, #T_071b8_row101_col0, #T_071b8_row101_col1, #T_071b8_row102_col0, #T_071b8_row102_col1, #T_071b8_row103_col0, #T_071b8_row103_col1, #T_071b8_row104_col0, #T_071b8_row104_col1, #T_071b8_row105_col0, #T_071b8_row105_col1, #T_071b8_row106_col0, #T_071b8_row106_col1, #T_071b8_row107_col0, #T_071b8_row107_col1, #T_071b8_row108_col0, #T_071b8_row108_col1, #T_071b8_row109_col0, #T_071b8_row109_col1, #T_071b8_row110_col0, #T_071b8_row110_col1, #T_071b8_row111_col0, #T_071b8_row111_col1, #T_071b8_row112_col0, #T_071b8_row112_col1, #T_071b8_row113_col0, #T_071b8_row113_col1, #T_071b8_row114_col0, #T_071b8_row114_col1, #T_071b8_row115_col0, #T_071b8_row115_col1, #T_071b8_row116_col0, #T_071b8_row116_col1, #T_071b8_row117_col0, #T_071b8_row117_col1, #T_071b8_row118_col0, #T_071b8_row118_col1, #T_071b8_row119_col0, #T_071b8_row119_col1, #T_071b8_row120_col0, #T_071b8_row120_col1, #T_071b8_row121_col0, #T_071b8_row121_col1, #T_071b8_row122_col0, #T_071b8_row122_col1, #T_071b8_row123_col0, #T_071b8_row123_col1, #T_071b8_row124_col0, #T_071b8_row124_col1, #T_071b8_row125_col0, #T_071b8_row125_col1, #T_071b8_row126_col0, #T_071b8_row126_col1, #T_071b8_row127_col0, #T_071b8_row127_col1, #T_071b8_row128_col0, #T_071b8_row128_col1, #T_071b8_row129_col0, #T_071b8_row129_col1, #T_071b8_row130_col0, #T_071b8_row130_col1, #T_071b8_row131_col0, #T_071b8_row131_col1, #T_071b8_row132_col0, #T_071b8_row132_col1, #T_071b8_row133_col0, #T_071b8_row133_col1, #T_071b8_row134_col0, #T_071b8_row134_col1, #T_071b8_row135_col0, #T_071b8_row135_col1, #T_071b8_row136_col0, #T_071b8_row136_col1, #T_071b8_row137_col0, #T_071b8_row137_col1, #T_071b8_row138_col0, #T_071b8_row138_col1, #T_071b8_row139_col0, #T_071b8_row139_col1, #T_071b8_row140_col0, #T_071b8_row140_col1, #T_071b8_row141_col0, #T_071b8_row141_col1, #T_071b8_row142_col0, #T_071b8_row142_col1, #T_071b8_row143_col0, #T_071b8_row143_col1, #T_071b8_row144_col0, #T_071b8_row144_col1, #T_071b8_row145_col0, #T_071b8_row145_col1, #T_071b8_row146_col0, #T_071b8_row146_col1, #T_071b8_row147_col0, #T_071b8_row147_col1, #T_071b8_row148_col0, #T_071b8_row148_col1, #T_071b8_row149_col0, #T_071b8_row149_col1, #T_071b8_row150_col0, #T_071b8_row150_col1, #T_071b8_row151_col0, #T_071b8_row151_col1, #T_071b8_row152_col0, #T_071b8_row152_col1, #T_071b8_row153_col0, #T_071b8_row153_col1, #T_071b8_row154_col0, #T_071b8_row154_col1, #T_071b8_row155_col0, #T_071b8_row155_col1, #T_071b8_row156_col0, #T_071b8_row156_col1, #T_071b8_row157_col0, #T_071b8_row157_col1, #T_071b8_row158_col0, #T_071b8_row158_col1, #T_071b8_row159_col0, #T_071b8_row159_col1, #T_071b8_row160_col0, #T_071b8_row160_col1, #T_071b8_row161_col0, #T_071b8_row161_col1, #T_071b8_row162_col0, #T_071b8_row162_col1, #T_071b8_row163_col0, #T_071b8_row163_col1, #T_071b8_row164_col0, #T_071b8_row164_col1, #T_071b8_row165_col0, #T_071b8_row165_col1, #T_071b8_row166_col0, #T_071b8_row166_col1, #T_071b8_row167_col0, #T_071b8_row167_col1, #T_071b8_row168_col0, #T_071b8_row168_col1, #T_071b8_row169_col0, #T_071b8_row169_col1, #T_071b8_row170_col0, #T_071b8_row170_col1, #T_071b8_row171_col0, #T_071b8_row171_col1 {\n",
       "  text-align: left;\n",
       "}\n",
       "</style>\n",
       "<table id=\"T_071b8\">\n",
       "  <thead>\n",
       "    <tr>\n",
       "      <th class=\"blank level0\" >&nbsp;</th>\n",
       "      <th id=\"T_071b8_level0_col0\" class=\"col_heading level0 col0\" >country</th>\n",
       "      <th id=\"T_071b8_level0_col1\" class=\"col_heading level0 col1\" >count</th>\n",
       "    </tr>\n",
       "  </thead>\n",
       "  <tbody>\n",
       "    <tr>\n",
       "      <th id=\"T_071b8_level0_row0\" class=\"row_heading level0 row0\" >0</th>\n",
       "      <td id=\"T_071b8_row0_col0\" class=\"data row0 col0\" >Albania</td>\n",
       "      <td id=\"T_071b8_row0_col1\" class=\"data row0 col1\" >34</td>\n",
       "    </tr>\n",
       "    <tr>\n",
       "      <th id=\"T_071b8_level0_row1\" class=\"row_heading level0 row1\" >1</th>\n",
       "      <td id=\"T_071b8_row1_col0\" class=\"data row1 col0\" >Algeria</td>\n",
       "      <td id=\"T_071b8_row1_col1\" class=\"data row1 col1\" >6</td>\n",
       "    </tr>\n",
       "    <tr>\n",
       "      <th id=\"T_071b8_level0_row2\" class=\"row_heading level0 row2\" >2</th>\n",
       "      <td id=\"T_071b8_row2_col0\" class=\"data row2 col0\" >Anguilla</td>\n",
       "      <td id=\"T_071b8_row2_col1\" class=\"data row2 col1\" >1</td>\n",
       "    </tr>\n",
       "    <tr>\n",
       "      <th id=\"T_071b8_level0_row3\" class=\"row_heading level0 row3\" >3</th>\n",
       "      <td id=\"T_071b8_row3_col0\" class=\"data row3 col0\" >Antarctica</td>\n",
       "      <td id=\"T_071b8_row3_col1\" class=\"data row3 col1\" >1</td>\n",
       "    </tr>\n",
       "    <tr>\n",
       "      <th id=\"T_071b8_level0_row4\" class=\"row_heading level0 row4\" >4</th>\n",
       "      <td id=\"T_071b8_row4_col0\" class=\"data row4 col0\" >Argentina</td>\n",
       "      <td id=\"T_071b8_row4_col1\" class=\"data row4 col1\" >227</td>\n",
       "    </tr>\n",
       "    <tr>\n",
       "      <th id=\"T_071b8_level0_row5\" class=\"row_heading level0 row5\" >5</th>\n",
       "      <td id=\"T_071b8_row5_col0\" class=\"data row5 col0\" >Armenia</td>\n",
       "      <td id=\"T_071b8_row5_col1\" class=\"data row5 col1\" >50</td>\n",
       "    </tr>\n",
       "    <tr>\n",
       "      <th id=\"T_071b8_level0_row6\" class=\"row_heading level0 row6\" >6</th>\n",
       "      <td id=\"T_071b8_row6_col0\" class=\"data row6 col0\" >Aruba</td>\n",
       "      <td id=\"T_071b8_row6_col1\" class=\"data row6 col1\" >1</td>\n",
       "    </tr>\n",
       "    <tr>\n",
       "      <th id=\"T_071b8_level0_row7\" class=\"row_heading level0 row7\" >7</th>\n",
       "      <td id=\"T_071b8_row7_col0\" class=\"data row7 col0\" >Australia</td>\n",
       "      <td id=\"T_071b8_row7_col1\" class=\"data row7 col1\" >3105</td>\n",
       "    </tr>\n",
       "    <tr>\n",
       "      <th id=\"T_071b8_level0_row8\" class=\"row_heading level0 row8\" >8</th>\n",
       "      <td id=\"T_071b8_row8_col0\" class=\"data row8 col0\" >Austria</td>\n",
       "      <td id=\"T_071b8_row8_col1\" class=\"data row8 col1\" >900</td>\n",
       "    </tr>\n",
       "    <tr>\n",
       "      <th id=\"T_071b8_level0_row9\" class=\"row_heading level0 row9\" >9</th>\n",
       "      <td id=\"T_071b8_row9_col0\" class=\"data row9 col0\" >Azerbaijan</td>\n",
       "      <td id=\"T_071b8_row9_col1\" class=\"data row9 col1\" >34</td>\n",
       "    </tr>\n",
       "    <tr>\n",
       "      <th id=\"T_071b8_level0_row10\" class=\"row_heading level0 row10\" >10</th>\n",
       "      <td id=\"T_071b8_row10_col0\" class=\"data row10 col0\" >Bahamas</td>\n",
       "      <td id=\"T_071b8_row10_col1\" class=\"data row10 col1\" >1</td>\n",
       "    </tr>\n",
       "    <tr>\n",
       "      <th id=\"T_071b8_level0_row11\" class=\"row_heading level0 row11\" >11</th>\n",
       "      <td id=\"T_071b8_row11_col0\" class=\"data row11 col0\" >Bahrain</td>\n",
       "      <td id=\"T_071b8_row11_col1\" class=\"data row11 col1\" >15</td>\n",
       "    </tr>\n",
       "    <tr>\n",
       "      <th id=\"T_071b8_level0_row12\" class=\"row_heading level0 row12\" >12</th>\n",
       "      <td id=\"T_071b8_row12_col0\" class=\"data row12 col0\" >Bangladesh</td>\n",
       "      <td id=\"T_071b8_row12_col1\" class=\"data row12 col1\" >4</td>\n",
       "    </tr>\n",
       "    <tr>\n",
       "      <th id=\"T_071b8_level0_row13\" class=\"row_heading level0 row13\" >13</th>\n",
       "      <td id=\"T_071b8_row13_col0\" class=\"data row13 col0\" >Barbados</td>\n",
       "      <td id=\"T_071b8_row13_col1\" class=\"data row13 col1\" >3</td>\n",
       "    </tr>\n",
       "    <tr>\n",
       "      <th id=\"T_071b8_level0_row14\" class=\"row_heading level0 row14\" >14</th>\n",
       "      <td id=\"T_071b8_row14_col0\" class=\"data row14 col0\" >Belarus</td>\n",
       "      <td id=\"T_071b8_row14_col1\" class=\"data row14 col1\" >93</td>\n",
       "    </tr>\n",
       "    <tr>\n",
       "      <th id=\"T_071b8_level0_row15\" class=\"row_heading level0 row15\" >15</th>\n",
       "      <td id=\"T_071b8_row15_col0\" class=\"data row15 col0\" >Belgium</td>\n",
       "      <td id=\"T_071b8_row15_col1\" class=\"data row15 col1\" >701</td>\n",
       "    </tr>\n",
       "    <tr>\n",
       "      <th id=\"T_071b8_level0_row16\" class=\"row_heading level0 row16\" >16</th>\n",
       "      <td id=\"T_071b8_row16_col0\" class=\"data row16 col0\" >Benin</td>\n",
       "      <td id=\"T_071b8_row16_col1\" class=\"data row16 col1\" >5</td>\n",
       "    </tr>\n",
       "    <tr>\n",
       "      <th id=\"T_071b8_level0_row17\" class=\"row_heading level0 row17\" >17</th>\n",
       "      <td id=\"T_071b8_row17_col0\" class=\"data row17 col0\" >Bermuda</td>\n",
       "      <td id=\"T_071b8_row17_col1\" class=\"data row17 col1\" >1</td>\n",
       "    </tr>\n",
       "    <tr>\n",
       "      <th id=\"T_071b8_level0_row18\" class=\"row_heading level0 row18\" >18</th>\n",
       "      <td id=\"T_071b8_row18_col0\" class=\"data row18 col0\" >Bhutan</td>\n",
       "      <td id=\"T_071b8_row18_col1\" class=\"data row18 col1\" >2</td>\n",
       "    </tr>\n",
       "    <tr>\n",
       "      <th id=\"T_071b8_level0_row19\" class=\"row_heading level0 row19\" >19</th>\n",
       "      <td id=\"T_071b8_row19_col0\" class=\"data row19 col0\" >Bolivia</td>\n",
       "      <td id=\"T_071b8_row19_col1\" class=\"data row19 col1\" >2</td>\n",
       "    </tr>\n",
       "    <tr>\n",
       "      <th id=\"T_071b8_level0_row20\" class=\"row_heading level0 row20\" >20</th>\n",
       "      <td id=\"T_071b8_row20_col0\" class=\"data row20 col0\" >Bolivia (Plurinational State of)</td>\n",
       "      <td id=\"T_071b8_row20_col1\" class=\"data row20 col1\" >40</td>\n",
       "    </tr>\n",
       "    <tr>\n",
       "      <th id=\"T_071b8_level0_row21\" class=\"row_heading level0 row21\" >21</th>\n",
       "      <td id=\"T_071b8_row21_col0\" class=\"data row21 col0\" >Bosnia and Herzegovina</td>\n",
       "      <td id=\"T_071b8_row21_col1\" class=\"data row21 col1\" >7</td>\n",
       "    </tr>\n",
       "    <tr>\n",
       "      <th id=\"T_071b8_level0_row22\" class=\"row_heading level0 row22\" >22</th>\n",
       "      <td id=\"T_071b8_row22_col0\" class=\"data row22 col0\" >Botswana</td>\n",
       "      <td id=\"T_071b8_row22_col1\" class=\"data row22 col1\" >1</td>\n",
       "    </tr>\n",
       "    <tr>\n",
       "      <th id=\"T_071b8_level0_row23\" class=\"row_heading level0 row23\" >23</th>\n",
       "      <td id=\"T_071b8_row23_col0\" class=\"data row23 col0\" >Brazil</td>\n",
       "      <td id=\"T_071b8_row23_col1\" class=\"data row23 col1\" >1130</td>\n",
       "    </tr>\n",
       "    <tr>\n",
       "      <th id=\"T_071b8_level0_row24\" class=\"row_heading level0 row24\" >24</th>\n",
       "      <td id=\"T_071b8_row24_col0\" class=\"data row24 col0\" >Brunei Darussalam</td>\n",
       "      <td id=\"T_071b8_row24_col1\" class=\"data row24 col1\" >5</td>\n",
       "    </tr>\n",
       "    <tr>\n",
       "      <th id=\"T_071b8_level0_row25\" class=\"row_heading level0 row25\" >25</th>\n",
       "      <td id=\"T_071b8_row25_col0\" class=\"data row25 col0\" >Bulgaria</td>\n",
       "      <td id=\"T_071b8_row25_col1\" class=\"data row25 col1\" >123</td>\n",
       "    </tr>\n",
       "    <tr>\n",
       "      <th id=\"T_071b8_level0_row26\" class=\"row_heading level0 row26\" >26</th>\n",
       "      <td id=\"T_071b8_row26_col0\" class=\"data row26 col0\" >Burkina Faso</td>\n",
       "      <td id=\"T_071b8_row26_col1\" class=\"data row26 col1\" >2</td>\n",
       "    </tr>\n",
       "    <tr>\n",
       "      <th id=\"T_071b8_level0_row27\" class=\"row_heading level0 row27\" >27</th>\n",
       "      <td id=\"T_071b8_row27_col0\" class=\"data row27 col0\" >Cabo Verde</td>\n",
       "      <td id=\"T_071b8_row27_col1\" class=\"data row27 col1\" >1</td>\n",
       "    </tr>\n",
       "    <tr>\n",
       "      <th id=\"T_071b8_level0_row28\" class=\"row_heading level0 row28\" >28</th>\n",
       "      <td id=\"T_071b8_row28_col0\" class=\"data row28 col0\" >Cambodia</td>\n",
       "      <td id=\"T_071b8_row28_col1\" class=\"data row28 col1\" >33</td>\n",
       "    </tr>\n",
       "    <tr>\n",
       "      <th id=\"T_071b8_level0_row29\" class=\"row_heading level0 row29\" >29</th>\n",
       "      <td id=\"T_071b8_row29_col0\" class=\"data row29 col0\" >Canada</td>\n",
       "      <td id=\"T_071b8_row29_col1\" class=\"data row29 col1\" >4018</td>\n",
       "    </tr>\n",
       "    <tr>\n",
       "      <th id=\"T_071b8_level0_row30\" class=\"row_heading level0 row30\" >30</th>\n",
       "      <td id=\"T_071b8_row30_col0\" class=\"data row30 col0\" >Cayman Islands</td>\n",
       "      <td id=\"T_071b8_row30_col1\" class=\"data row30 col1\" >2</td>\n",
       "    </tr>\n",
       "    <tr>\n",
       "      <th id=\"T_071b8_level0_row31\" class=\"row_heading level0 row31\" >31</th>\n",
       "      <td id=\"T_071b8_row31_col0\" class=\"data row31 col0\" >Chile</td>\n",
       "      <td id=\"T_071b8_row31_col1\" class=\"data row31 col1\" >447</td>\n",
       "    </tr>\n",
       "    <tr>\n",
       "      <th id=\"T_071b8_level0_row32\" class=\"row_heading level0 row32\" >32</th>\n",
       "      <td id=\"T_071b8_row32_col0\" class=\"data row32 col0\" >China</td>\n",
       "      <td id=\"T_071b8_row32_col1\" class=\"data row32 col1\" >1482</td>\n",
       "    </tr>\n",
       "    <tr>\n",
       "      <th id=\"T_071b8_level0_row33\" class=\"row_heading level0 row33\" >33</th>\n",
       "      <td id=\"T_071b8_row33_col0\" class=\"data row33 col0\" >Colombia</td>\n",
       "      <td id=\"T_071b8_row33_col1\" class=\"data row33 col1\" >351</td>\n",
       "    </tr>\n",
       "    <tr>\n",
       "      <th id=\"T_071b8_level0_row34\" class=\"row_heading level0 row34\" >34</th>\n",
       "      <td id=\"T_071b8_row34_col0\" class=\"data row34 col0\" >Congo (Democratic Republic of the)</td>\n",
       "      <td id=\"T_071b8_row34_col1\" class=\"data row34 col1\" >5</td>\n",
       "    </tr>\n",
       "    <tr>\n",
       "      <th id=\"T_071b8_level0_row35\" class=\"row_heading level0 row35\" >35</th>\n",
       "      <td id=\"T_071b8_row35_col0\" class=\"data row35 col0\" >Costa Rica</td>\n",
       "      <td id=\"T_071b8_row35_col1\" class=\"data row35 col1\" >62</td>\n",
       "    </tr>\n",
       "    <tr>\n",
       "      <th id=\"T_071b8_level0_row36\" class=\"row_heading level0 row36\" >36</th>\n",
       "      <td id=\"T_071b8_row36_col0\" class=\"data row36 col0\" >Croatia</td>\n",
       "      <td id=\"T_071b8_row36_col1\" class=\"data row36 col1\" >146</td>\n",
       "    </tr>\n",
       "    <tr>\n",
       "      <th id=\"T_071b8_level0_row37\" class=\"row_heading level0 row37\" >37</th>\n",
       "      <td id=\"T_071b8_row37_col0\" class=\"data row37 col0\" >Cyprus</td>\n",
       "      <td id=\"T_071b8_row37_col1\" class=\"data row37 col1\" >41</td>\n",
       "    </tr>\n",
       "    <tr>\n",
       "      <th id=\"T_071b8_level0_row38\" class=\"row_heading level0 row38\" >38</th>\n",
       "      <td id=\"T_071b8_row38_col0\" class=\"data row38 col0\" >Czechia</td>\n",
       "      <td id=\"T_071b8_row38_col1\" class=\"data row38 col1\" >624</td>\n",
       "    </tr>\n",
       "    <tr>\n",
       "      <th id=\"T_071b8_level0_row39\" class=\"row_heading level0 row39\" >39</th>\n",
       "      <td id=\"T_071b8_row39_col0\" class=\"data row39 col0\" >Côte d'Ivoire</td>\n",
       "      <td id=\"T_071b8_row39_col1\" class=\"data row39 col1\" >2</td>\n",
       "    </tr>\n",
       "    <tr>\n",
       "      <th id=\"T_071b8_level0_row40\" class=\"row_heading level0 row40\" >40</th>\n",
       "      <td id=\"T_071b8_row40_col0\" class=\"data row40 col0\" >Denmark</td>\n",
       "      <td id=\"T_071b8_row40_col1\" class=\"data row40 col1\" >716</td>\n",
       "    </tr>\n",
       "    <tr>\n",
       "      <th id=\"T_071b8_level0_row41\" class=\"row_heading level0 row41\" >41</th>\n",
       "      <td id=\"T_071b8_row41_col0\" class=\"data row41 col0\" >Dominican Republic</td>\n",
       "      <td id=\"T_071b8_row41_col1\" class=\"data row41 col1\" >61</td>\n",
       "    </tr>\n",
       "    <tr>\n",
       "      <th id=\"T_071b8_level0_row42\" class=\"row_heading level0 row42\" >42</th>\n",
       "      <td id=\"T_071b8_row42_col0\" class=\"data row42 col0\" >Ecuador</td>\n",
       "      <td id=\"T_071b8_row42_col1\" class=\"data row42 col1\" >101</td>\n",
       "    </tr>\n",
       "    <tr>\n",
       "      <th id=\"T_071b8_level0_row43\" class=\"row_heading level0 row43\" >43</th>\n",
       "      <td id=\"T_071b8_row43_col0\" class=\"data row43 col0\" >Egypt</td>\n",
       "      <td id=\"T_071b8_row43_col1\" class=\"data row43 col1\" >119</td>\n",
       "    </tr>\n",
       "    <tr>\n",
       "      <th id=\"T_071b8_level0_row44\" class=\"row_heading level0 row44\" >44</th>\n",
       "      <td id=\"T_071b8_row44_col0\" class=\"data row44 col0\" >El Salvador</td>\n",
       "      <td id=\"T_071b8_row44_col1\" class=\"data row44 col1\" >27</td>\n",
       "    </tr>\n",
       "    <tr>\n",
       "      <th id=\"T_071b8_level0_row45\" class=\"row_heading level0 row45\" >45</th>\n",
       "      <td id=\"T_071b8_row45_col0\" class=\"data row45 col0\" >Estonia</td>\n",
       "      <td id=\"T_071b8_row45_col1\" class=\"data row45 col1\" >91</td>\n",
       "    </tr>\n",
       "    <tr>\n",
       "      <th id=\"T_071b8_level0_row46\" class=\"row_heading level0 row46\" >46</th>\n",
       "      <td id=\"T_071b8_row46_col0\" class=\"data row46 col0\" >Eswatini</td>\n",
       "      <td id=\"T_071b8_row46_col1\" class=\"data row46 col1\" >1</td>\n",
       "    </tr>\n",
       "    <tr>\n",
       "      <th id=\"T_071b8_level0_row47\" class=\"row_heading level0 row47\" >47</th>\n",
       "      <td id=\"T_071b8_row47_col0\" class=\"data row47 col0\" >Fiji</td>\n",
       "      <td id=\"T_071b8_row47_col1\" class=\"data row47 col1\" >2</td>\n",
       "    </tr>\n",
       "    <tr>\n",
       "      <th id=\"T_071b8_level0_row48\" class=\"row_heading level0 row48\" >48</th>\n",
       "      <td id=\"T_071b8_row48_col0\" class=\"data row48 col0\" >Finland</td>\n",
       "      <td id=\"T_071b8_row48_col1\" class=\"data row48 col1\" >484</td>\n",
       "    </tr>\n",
       "    <tr>\n",
       "      <th id=\"T_071b8_level0_row49\" class=\"row_heading level0 row49\" >49</th>\n",
       "      <td id=\"T_071b8_row49_col0\" class=\"data row49 col0\" >France</td>\n",
       "      <td id=\"T_071b8_row49_col1\" class=\"data row49 col1\" >4301</td>\n",
       "    </tr>\n",
       "    <tr>\n",
       "      <th id=\"T_071b8_level0_row50\" class=\"row_heading level0 row50\" >50</th>\n",
       "      <td id=\"T_071b8_row50_col0\" class=\"data row50 col0\" >Georgia</td>\n",
       "      <td id=\"T_071b8_row50_col1\" class=\"data row50 col1\" >56</td>\n",
       "    </tr>\n",
       "    <tr>\n",
       "      <th id=\"T_071b8_level0_row51\" class=\"row_heading level0 row51\" >51</th>\n",
       "      <td id=\"T_071b8_row51_col0\" class=\"data row51 col0\" >Germany</td>\n",
       "      <td id=\"T_071b8_row51_col1\" class=\"data row51 col1\" >8362</td>\n",
       "    </tr>\n",
       "    <tr>\n",
       "      <th id=\"T_071b8_level0_row52\" class=\"row_heading level0 row52\" >52</th>\n",
       "      <td id=\"T_071b8_row52_col0\" class=\"data row52 col0\" >Ghana</td>\n",
       "      <td id=\"T_071b8_row52_col1\" class=\"data row52 col1\" >17</td>\n",
       "    </tr>\n",
       "    <tr>\n",
       "      <th id=\"T_071b8_level0_row53\" class=\"row_heading level0 row53\" >53</th>\n",
       "      <td id=\"T_071b8_row53_col0\" class=\"data row53 col0\" >Greece</td>\n",
       "      <td id=\"T_071b8_row53_col1\" class=\"data row53 col1\" >286</td>\n",
       "    </tr>\n",
       "    <tr>\n",
       "      <th id=\"T_071b8_level0_row54\" class=\"row_heading level0 row54\" >54</th>\n",
       "      <td id=\"T_071b8_row54_col0\" class=\"data row54 col0\" >Grenada</td>\n",
       "      <td id=\"T_071b8_row54_col1\" class=\"data row54 col1\" >1</td>\n",
       "    </tr>\n",
       "    <tr>\n",
       "      <th id=\"T_071b8_level0_row55\" class=\"row_heading level0 row55\" >55</th>\n",
       "      <td id=\"T_071b8_row55_col0\" class=\"data row55 col0\" >Guatemala</td>\n",
       "      <td id=\"T_071b8_row55_col1\" class=\"data row55 col1\" >63</td>\n",
       "    </tr>\n",
       "    <tr>\n",
       "      <th id=\"T_071b8_level0_row56\" class=\"row_heading level0 row56\" >56</th>\n",
       "      <td id=\"T_071b8_row56_col0\" class=\"data row56 col0\" >Guernsey</td>\n",
       "      <td id=\"T_071b8_row56_col1\" class=\"data row56 col1\" >1</td>\n",
       "    </tr>\n",
       "    <tr>\n",
       "      <th id=\"T_071b8_level0_row57\" class=\"row_heading level0 row57\" >57</th>\n",
       "      <td id=\"T_071b8_row57_col0\" class=\"data row57 col0\" >Haiti</td>\n",
       "      <td id=\"T_071b8_row57_col1\" class=\"data row57 col1\" >1</td>\n",
       "    </tr>\n",
       "    <tr>\n",
       "      <th id=\"T_071b8_level0_row58\" class=\"row_heading level0 row58\" >58</th>\n",
       "      <td id=\"T_071b8_row58_col0\" class=\"data row58 col0\" >Honduras</td>\n",
       "      <td id=\"T_071b8_row58_col1\" class=\"data row58 col1\" >18</td>\n",
       "    </tr>\n",
       "    <tr>\n",
       "      <th id=\"T_071b8_level0_row59\" class=\"row_heading level0 row59\" >59</th>\n",
       "      <td id=\"T_071b8_row59_col0\" class=\"data row59 col0\" >Hong Kong</td>\n",
       "      <td id=\"T_071b8_row59_col1\" class=\"data row59 col1\" >337</td>\n",
       "    </tr>\n",
       "    <tr>\n",
       "      <th id=\"T_071b8_level0_row60\" class=\"row_heading level0 row60\" >60</th>\n",
       "      <td id=\"T_071b8_row60_col0\" class=\"data row60 col0\" >Hungary</td>\n",
       "      <td id=\"T_071b8_row60_col1\" class=\"data row60 col1\" >339</td>\n",
       "    </tr>\n",
       "    <tr>\n",
       "      <th id=\"T_071b8_level0_row61\" class=\"row_heading level0 row61\" >61</th>\n",
       "      <td id=\"T_071b8_row61_col0\" class=\"data row61 col0\" >Iceland</td>\n",
       "      <td id=\"T_071b8_row61_col1\" class=\"data row61 col1\" >88</td>\n",
       "    </tr>\n",
       "    <tr>\n",
       "      <th id=\"T_071b8_level0_row62\" class=\"row_heading level0 row62\" >62</th>\n",
       "      <td id=\"T_071b8_row62_col0\" class=\"data row62 col0\" >India</td>\n",
       "      <td id=\"T_071b8_row62_col1\" class=\"data row62 col1\" >730</td>\n",
       "    </tr>\n",
       "    <tr>\n",
       "      <th id=\"T_071b8_level0_row63\" class=\"row_heading level0 row63\" >63</th>\n",
       "      <td id=\"T_071b8_row63_col0\" class=\"data row63 col0\" >Indonesia</td>\n",
       "      <td id=\"T_071b8_row63_col1\" class=\"data row63 col1\" >480</td>\n",
       "    </tr>\n",
       "    <tr>\n",
       "      <th id=\"T_071b8_level0_row64\" class=\"row_heading level0 row64\" >64</th>\n",
       "      <td id=\"T_071b8_row64_col0\" class=\"data row64 col0\" >Iran</td>\n",
       "      <td id=\"T_071b8_row64_col1\" class=\"data row64 col1\" >6</td>\n",
       "    </tr>\n",
       "    <tr>\n",
       "      <th id=\"T_071b8_level0_row65\" class=\"row_heading level0 row65\" >65</th>\n",
       "      <td id=\"T_071b8_row65_col0\" class=\"data row65 col0\" >Iraq</td>\n",
       "      <td id=\"T_071b8_row65_col1\" class=\"data row65 col1\" >6</td>\n",
       "    </tr>\n",
       "    <tr>\n",
       "      <th id=\"T_071b8_level0_row66\" class=\"row_heading level0 row66\" >66</th>\n",
       "      <td id=\"T_071b8_row66_col0\" class=\"data row66 col0\" >Ireland</td>\n",
       "      <td id=\"T_071b8_row66_col1\" class=\"data row66 col1\" >305</td>\n",
       "    </tr>\n",
       "    <tr>\n",
       "      <th id=\"T_071b8_level0_row67\" class=\"row_heading level0 row67\" >67</th>\n",
       "      <td id=\"T_071b8_row67_col0\" class=\"data row67 col0\" >Israel</td>\n",
       "      <td id=\"T_071b8_row67_col1\" class=\"data row67 col1\" >468</td>\n",
       "    </tr>\n",
       "    <tr>\n",
       "      <th id=\"T_071b8_level0_row68\" class=\"row_heading level0 row68\" >68</th>\n",
       "      <td id=\"T_071b8_row68_col0\" class=\"data row68 col0\" >Italy</td>\n",
       "      <td id=\"T_071b8_row68_col1\" class=\"data row68 col1\" >3125</td>\n",
       "    </tr>\n",
       "    <tr>\n",
       "      <th id=\"T_071b8_level0_row69\" class=\"row_heading level0 row69\" >69</th>\n",
       "      <td id=\"T_071b8_row69_col0\" class=\"data row69 col0\" >Jamaica</td>\n",
       "      <td id=\"T_071b8_row69_col1\" class=\"data row69 col1\" >6</td>\n",
       "    </tr>\n",
       "    <tr>\n",
       "      <th id=\"T_071b8_level0_row70\" class=\"row_heading level0 row70\" >70</th>\n",
       "      <td id=\"T_071b8_row70_col0\" class=\"data row70 col0\" >Japan</td>\n",
       "      <td id=\"T_071b8_row70_col1\" class=\"data row70 col1\" >2166</td>\n",
       "    </tr>\n",
       "    <tr>\n",
       "      <th id=\"T_071b8_level0_row71\" class=\"row_heading level0 row71\" >71</th>\n",
       "      <td id=\"T_071b8_row71_col0\" class=\"data row71 col0\" >Jordan</td>\n",
       "      <td id=\"T_071b8_row71_col1\" class=\"data row71 col1\" >24</td>\n",
       "    </tr>\n",
       "    <tr>\n",
       "      <th id=\"T_071b8_level0_row72\" class=\"row_heading level0 row72\" >72</th>\n",
       "      <td id=\"T_071b8_row72_col0\" class=\"data row72 col0\" >Kazakhstan</td>\n",
       "      <td id=\"T_071b8_row72_col1\" class=\"data row72 col1\" >223</td>\n",
       "    </tr>\n",
       "    <tr>\n",
       "      <th id=\"T_071b8_level0_row73\" class=\"row_heading level0 row73\" >73</th>\n",
       "      <td id=\"T_071b8_row73_col0\" class=\"data row73 col0\" >Kenya</td>\n",
       "      <td id=\"T_071b8_row73_col1\" class=\"data row73 col1\" >25</td>\n",
       "    </tr>\n",
       "    <tr>\n",
       "      <th id=\"T_071b8_level0_row74\" class=\"row_heading level0 row74\" >74</th>\n",
       "      <td id=\"T_071b8_row74_col0\" class=\"data row74 col0\" >Korea (Republic of)</td>\n",
       "      <td id=\"T_071b8_row74_col1\" class=\"data row74 col1\" >686</td>\n",
       "    </tr>\n",
       "    <tr>\n",
       "      <th id=\"T_071b8_level0_row75\" class=\"row_heading level0 row75\" >75</th>\n",
       "      <td id=\"T_071b8_row75_col0\" class=\"data row75 col0\" >Kuwait</td>\n",
       "      <td id=\"T_071b8_row75_col1\" class=\"data row75 col1\" >46</td>\n",
       "    </tr>\n",
       "    <tr>\n",
       "      <th id=\"T_071b8_level0_row76\" class=\"row_heading level0 row76\" >76</th>\n",
       "      <td id=\"T_071b8_row76_col0\" class=\"data row76 col0\" >Kyrgyzstan</td>\n",
       "      <td id=\"T_071b8_row76_col1\" class=\"data row76 col1\" >18</td>\n",
       "    </tr>\n",
       "    <tr>\n",
       "      <th id=\"T_071b8_level0_row77\" class=\"row_heading level0 row77\" >77</th>\n",
       "      <td id=\"T_071b8_row77_col0\" class=\"data row77 col0\" >Lao People's Democratic Republic</td>\n",
       "      <td id=\"T_071b8_row77_col1\" class=\"data row77 col1\" >2</td>\n",
       "    </tr>\n",
       "    <tr>\n",
       "      <th id=\"T_071b8_level0_row78\" class=\"row_heading level0 row78\" >78</th>\n",
       "      <td id=\"T_071b8_row78_col0\" class=\"data row78 col0\" >Latvia</td>\n",
       "      <td id=\"T_071b8_row78_col1\" class=\"data row78 col1\" >117</td>\n",
       "    </tr>\n",
       "    <tr>\n",
       "      <th id=\"T_071b8_level0_row79\" class=\"row_heading level0 row79\" >79</th>\n",
       "      <td id=\"T_071b8_row79_col0\" class=\"data row79 col0\" >Lebanon</td>\n",
       "      <td id=\"T_071b8_row79_col1\" class=\"data row79 col1\" >23</td>\n",
       "    </tr>\n",
       "    <tr>\n",
       "      <th id=\"T_071b8_level0_row80\" class=\"row_heading level0 row80\" >80</th>\n",
       "      <td id=\"T_071b8_row80_col0\" class=\"data row80 col0\" >Libya</td>\n",
       "      <td id=\"T_071b8_row80_col1\" class=\"data row80 col1\" >1</td>\n",
       "    </tr>\n",
       "    <tr>\n",
       "      <th id=\"T_071b8_level0_row81\" class=\"row_heading level0 row81\" >81</th>\n",
       "      <td id=\"T_071b8_row81_col0\" class=\"data row81 col0\" >Lithuania</td>\n",
       "      <td id=\"T_071b8_row81_col1\" class=\"data row81 col1\" >119</td>\n",
       "    </tr>\n",
       "    <tr>\n",
       "      <th id=\"T_071b8_level0_row82\" class=\"row_heading level0 row82\" >82</th>\n",
       "      <td id=\"T_071b8_row82_col0\" class=\"data row82 col0\" >Luxembourg</td>\n",
       "      <td id=\"T_071b8_row82_col1\" class=\"data row82 col1\" >79</td>\n",
       "    </tr>\n",
       "    <tr>\n",
       "      <th id=\"T_071b8_level0_row83\" class=\"row_heading level0 row83\" >83</th>\n",
       "      <td id=\"T_071b8_row83_col0\" class=\"data row83 col0\" >Macao</td>\n",
       "      <td id=\"T_071b8_row83_col1\" class=\"data row83 col1\" >13</td>\n",
       "    </tr>\n",
       "    <tr>\n",
       "      <th id=\"T_071b8_level0_row84\" class=\"row_heading level0 row84\" >84</th>\n",
       "      <td id=\"T_071b8_row84_col0\" class=\"data row84 col0\" >Macedonia (FYROM)</td>\n",
       "      <td id=\"T_071b8_row84_col1\" class=\"data row84 col1\" >3</td>\n",
       "    </tr>\n",
       "    <tr>\n",
       "      <th id=\"T_071b8_level0_row85\" class=\"row_heading level0 row85\" >85</th>\n",
       "      <td id=\"T_071b8_row85_col0\" class=\"data row85 col0\" >Madagascar</td>\n",
       "      <td id=\"T_071b8_row85_col1\" class=\"data row85 col1\" >2</td>\n",
       "    </tr>\n",
       "    <tr>\n",
       "      <th id=\"T_071b8_level0_row86\" class=\"row_heading level0 row86\" >86</th>\n",
       "      <td id=\"T_071b8_row86_col0\" class=\"data row86 col0\" >Malawi</td>\n",
       "      <td id=\"T_071b8_row86_col1\" class=\"data row86 col1\" >1</td>\n",
       "    </tr>\n",
       "    <tr>\n",
       "      <th id=\"T_071b8_level0_row87\" class=\"row_heading level0 row87\" >87</th>\n",
       "      <td id=\"T_071b8_row87_col0\" class=\"data row87 col0\" >Malaysia</td>\n",
       "      <td id=\"T_071b8_row87_col1\" class=\"data row87 col1\" >302</td>\n",
       "    </tr>\n",
       "    <tr>\n",
       "      <th id=\"T_071b8_level0_row88\" class=\"row_heading level0 row88\" >88</th>\n",
       "      <td id=\"T_071b8_row88_col0\" class=\"data row88 col0\" >Maldives</td>\n",
       "      <td id=\"T_071b8_row88_col1\" class=\"data row88 col1\" >9</td>\n",
       "    </tr>\n",
       "    <tr>\n",
       "      <th id=\"T_071b8_level0_row89\" class=\"row_heading level0 row89\" >89</th>\n",
       "      <td id=\"T_071b8_row89_col0\" class=\"data row89 col0\" >Mali</td>\n",
       "      <td id=\"T_071b8_row89_col1\" class=\"data row89 col1\" >1</td>\n",
       "    </tr>\n",
       "    <tr>\n",
       "      <th id=\"T_071b8_level0_row90\" class=\"row_heading level0 row90\" >90</th>\n",
       "      <td id=\"T_071b8_row90_col0\" class=\"data row90 col0\" >Malta</td>\n",
       "      <td id=\"T_071b8_row90_col1\" class=\"data row90 col1\" >44</td>\n",
       "    </tr>\n",
       "    <tr>\n",
       "      <th id=\"T_071b8_level0_row91\" class=\"row_heading level0 row91\" >91</th>\n",
       "      <td id=\"T_071b8_row91_col0\" class=\"data row91 col0\" >Martinique</td>\n",
       "      <td id=\"T_071b8_row91_col1\" class=\"data row91 col1\" >1</td>\n",
       "    </tr>\n",
       "    <tr>\n",
       "      <th id=\"T_071b8_level0_row92\" class=\"row_heading level0 row92\" >92</th>\n",
       "      <td id=\"T_071b8_row92_col0\" class=\"data row92 col0\" >Mauritius</td>\n",
       "      <td id=\"T_071b8_row92_col1\" class=\"data row92 col1\" >8</td>\n",
       "    </tr>\n",
       "    <tr>\n",
       "      <th id=\"T_071b8_level0_row93\" class=\"row_heading level0 row93\" >93</th>\n",
       "      <td id=\"T_071b8_row93_col0\" class=\"data row93 col0\" >Mexico</td>\n",
       "      <td id=\"T_071b8_row93_col1\" class=\"data row93 col1\" >911</td>\n",
       "    </tr>\n",
       "    <tr>\n",
       "      <th id=\"T_071b8_level0_row94\" class=\"row_heading level0 row94\" >94</th>\n",
       "      <td id=\"T_071b8_row94_col0\" class=\"data row94 col0\" >Moldova (Republic of)</td>\n",
       "      <td id=\"T_071b8_row94_col1\" class=\"data row94 col1\" >32</td>\n",
       "    </tr>\n",
       "    <tr>\n",
       "      <th id=\"T_071b8_level0_row95\" class=\"row_heading level0 row95\" >95</th>\n",
       "      <td id=\"T_071b8_row95_col0\" class=\"data row95 col0\" >Monaco</td>\n",
       "      <td id=\"T_071b8_row95_col1\" class=\"data row95 col1\" >1</td>\n",
       "    </tr>\n",
       "    <tr>\n",
       "      <th id=\"T_071b8_level0_row96\" class=\"row_heading level0 row96\" >96</th>\n",
       "      <td id=\"T_071b8_row96_col0\" class=\"data row96 col0\" >Mongolia</td>\n",
       "      <td id=\"T_071b8_row96_col1\" class=\"data row96 col1\" >19</td>\n",
       "    </tr>\n",
       "    <tr>\n",
       "      <th id=\"T_071b8_level0_row97\" class=\"row_heading level0 row97\" >97</th>\n",
       "      <td id=\"T_071b8_row97_col0\" class=\"data row97 col0\" >Montenegro</td>\n",
       "      <td id=\"T_071b8_row97_col1\" class=\"data row97 col1\" >5</td>\n",
       "    </tr>\n",
       "    <tr>\n",
       "      <th id=\"T_071b8_level0_row98\" class=\"row_heading level0 row98\" >98</th>\n",
       "      <td id=\"T_071b8_row98_col0\" class=\"data row98 col0\" >Morocco</td>\n",
       "      <td id=\"T_071b8_row98_col1\" class=\"data row98 col1\" >20</td>\n",
       "    </tr>\n",
       "    <tr>\n",
       "      <th id=\"T_071b8_level0_row99\" class=\"row_heading level0 row99\" >99</th>\n",
       "      <td id=\"T_071b8_row99_col0\" class=\"data row99 col0\" >Mozambique</td>\n",
       "      <td id=\"T_071b8_row99_col1\" class=\"data row99 col1\" >4</td>\n",
       "    </tr>\n",
       "    <tr>\n",
       "      <th id=\"T_071b8_level0_row100\" class=\"row_heading level0 row100\" >100</th>\n",
       "      <td id=\"T_071b8_row100_col0\" class=\"data row100 col0\" >Myanmar</td>\n",
       "      <td id=\"T_071b8_row100_col1\" class=\"data row100 col1\" >2</td>\n",
       "    </tr>\n",
       "    <tr>\n",
       "      <th id=\"T_071b8_level0_row101\" class=\"row_heading level0 row101\" >101</th>\n",
       "      <td id=\"T_071b8_row101_col0\" class=\"data row101 col0\" >Namibia</td>\n",
       "      <td id=\"T_071b8_row101_col1\" class=\"data row101 col1\" >5</td>\n",
       "    </tr>\n",
       "    <tr>\n",
       "      <th id=\"T_071b8_level0_row102\" class=\"row_heading level0 row102\" >102</th>\n",
       "      <td id=\"T_071b8_row102_col0\" class=\"data row102 col0\" >Nepal</td>\n",
       "      <td id=\"T_071b8_row102_col1\" class=\"data row102 col1\" >5</td>\n",
       "    </tr>\n",
       "    <tr>\n",
       "      <th id=\"T_071b8_level0_row103\" class=\"row_heading level0 row103\" >103</th>\n",
       "      <td id=\"T_071b8_row103_col0\" class=\"data row103 col0\" >Netherlands</td>\n",
       "      <td id=\"T_071b8_row103_col1\" class=\"data row103 col1\" >1607</td>\n",
       "    </tr>\n",
       "    <tr>\n",
       "      <th id=\"T_071b8_level0_row104\" class=\"row_heading level0 row104\" >104</th>\n",
       "      <td id=\"T_071b8_row104_col0\" class=\"data row104 col0\" >New Zealand</td>\n",
       "      <td id=\"T_071b8_row104_col1\" class=\"data row104 col1\" >522</td>\n",
       "    </tr>\n",
       "    <tr>\n",
       "      <th id=\"T_071b8_level0_row105\" class=\"row_heading level0 row105\" >105</th>\n",
       "      <td id=\"T_071b8_row105_col0\" class=\"data row105 col0\" >Nicaragua</td>\n",
       "      <td id=\"T_071b8_row105_col1\" class=\"data row105 col1\" >4</td>\n",
       "    </tr>\n",
       "    <tr>\n",
       "      <th id=\"T_071b8_level0_row106\" class=\"row_heading level0 row106\" >106</th>\n",
       "      <td id=\"T_071b8_row106_col0\" class=\"data row106 col0\" >Niger</td>\n",
       "      <td id=\"T_071b8_row106_col1\" class=\"data row106 col1\" >1</td>\n",
       "    </tr>\n",
       "    <tr>\n",
       "      <th id=\"T_071b8_level0_row107\" class=\"row_heading level0 row107\" >107</th>\n",
       "      <td id=\"T_071b8_row107_col0\" class=\"data row107 col0\" >Nigeria</td>\n",
       "      <td id=\"T_071b8_row107_col1\" class=\"data row107 col1\" >46</td>\n",
       "    </tr>\n",
       "    <tr>\n",
       "      <th id=\"T_071b8_level0_row108\" class=\"row_heading level0 row108\" >108</th>\n",
       "      <td id=\"T_071b8_row108_col0\" class=\"data row108 col0\" >North Macedonia</td>\n",
       "      <td id=\"T_071b8_row108_col1\" class=\"data row108 col1\" >13</td>\n",
       "    </tr>\n",
       "    <tr>\n",
       "      <th id=\"T_071b8_level0_row109\" class=\"row_heading level0 row109\" >109</th>\n",
       "      <td id=\"T_071b8_row109_col0\" class=\"data row109 col0\" >Norway</td>\n",
       "      <td id=\"T_071b8_row109_col1\" class=\"data row109 col1\" >916</td>\n",
       "    </tr>\n",
       "    <tr>\n",
       "      <th id=\"T_071b8_level0_row110\" class=\"row_heading level0 row110\" >110</th>\n",
       "      <td id=\"T_071b8_row110_col0\" class=\"data row110 col0\" >Oman</td>\n",
       "      <td id=\"T_071b8_row110_col1\" class=\"data row110 col1\" >29</td>\n",
       "    </tr>\n",
       "    <tr>\n",
       "      <th id=\"T_071b8_level0_row111\" class=\"row_heading level0 row111\" >111</th>\n",
       "      <td id=\"T_071b8_row111_col0\" class=\"data row111 col0\" >Pakistan</td>\n",
       "      <td id=\"T_071b8_row111_col1\" class=\"data row111 col1\" >65</td>\n",
       "    </tr>\n",
       "    <tr>\n",
       "      <th id=\"T_071b8_level0_row112\" class=\"row_heading level0 row112\" >112</th>\n",
       "      <td id=\"T_071b8_row112_col0\" class=\"data row112 col0\" >Panama</td>\n",
       "      <td id=\"T_071b8_row112_col1\" class=\"data row112 col1\" >30</td>\n",
       "    </tr>\n",
       "    <tr>\n",
       "      <th id=\"T_071b8_level0_row113\" class=\"row_heading level0 row113\" >113</th>\n",
       "      <td id=\"T_071b8_row113_col0\" class=\"data row113 col0\" >Papua New Guinea</td>\n",
       "      <td id=\"T_071b8_row113_col1\" class=\"data row113 col1\" >4</td>\n",
       "    </tr>\n",
       "    <tr>\n",
       "      <th id=\"T_071b8_level0_row114\" class=\"row_heading level0 row114\" >114</th>\n",
       "      <td id=\"T_071b8_row114_col0\" class=\"data row114 col0\" >Paraguay</td>\n",
       "      <td id=\"T_071b8_row114_col1\" class=\"data row114 col1\" >17</td>\n",
       "    </tr>\n",
       "    <tr>\n",
       "      <th id=\"T_071b8_level0_row115\" class=\"row_heading level0 row115\" >115</th>\n",
       "      <td id=\"T_071b8_row115_col0\" class=\"data row115 col0\" >Peru</td>\n",
       "      <td id=\"T_071b8_row115_col1\" class=\"data row115 col1\" >146</td>\n",
       "    </tr>\n",
       "    <tr>\n",
       "      <th id=\"T_071b8_level0_row116\" class=\"row_heading level0 row116\" >116</th>\n",
       "      <td id=\"T_071b8_row116_col0\" class=\"data row116 col0\" >Philippines</td>\n",
       "      <td id=\"T_071b8_row116_col1\" class=\"data row116 col1\" >233</td>\n",
       "    </tr>\n",
       "    <tr>\n",
       "      <th id=\"T_071b8_level0_row117\" class=\"row_heading level0 row117\" >117</th>\n",
       "      <td id=\"T_071b8_row117_col0\" class=\"data row117 col0\" >Poland</td>\n",
       "      <td id=\"T_071b8_row117_col1\" class=\"data row117 col1\" >1080</td>\n",
       "    </tr>\n",
       "    <tr>\n",
       "      <th id=\"T_071b8_level0_row118\" class=\"row_heading level0 row118\" >118</th>\n",
       "      <td id=\"T_071b8_row118_col0\" class=\"data row118 col0\" >Portugal</td>\n",
       "      <td id=\"T_071b8_row118_col1\" class=\"data row118 col1\" >278</td>\n",
       "    </tr>\n",
       "    <tr>\n",
       "      <th id=\"T_071b8_level0_row119\" class=\"row_heading level0 row119\" >119</th>\n",
       "      <td id=\"T_071b8_row119_col0\" class=\"data row119 col0\" >Puerto Rico</td>\n",
       "      <td id=\"T_071b8_row119_col1\" class=\"data row119 col1\" >6</td>\n",
       "    </tr>\n",
       "    <tr>\n",
       "      <th id=\"T_071b8_level0_row120\" class=\"row_heading level0 row120\" >120</th>\n",
       "      <td id=\"T_071b8_row120_col0\" class=\"data row120 col0\" >Qatar</td>\n",
       "      <td id=\"T_071b8_row120_col1\" class=\"data row120 col1\" >33</td>\n",
       "    </tr>\n",
       "    <tr>\n",
       "      <th id=\"T_071b8_level0_row121\" class=\"row_heading level0 row121\" >121</th>\n",
       "      <td id=\"T_071b8_row121_col0\" class=\"data row121 col0\" >Romania</td>\n",
       "      <td id=\"T_071b8_row121_col1\" class=\"data row121 col1\" >377</td>\n",
       "    </tr>\n",
       "    <tr>\n",
       "      <th id=\"T_071b8_level0_row122\" class=\"row_heading level0 row122\" >122</th>\n",
       "      <td id=\"T_071b8_row122_col0\" class=\"data row122 col0\" >Russia</td>\n",
       "      <td id=\"T_071b8_row122_col1\" class=\"data row122 col1\" >40</td>\n",
       "    </tr>\n",
       "    <tr>\n",
       "      <th id=\"T_071b8_level0_row123\" class=\"row_heading level0 row123\" >123</th>\n",
       "      <td id=\"T_071b8_row123_col0\" class=\"data row123 col0\" >Russian Federation</td>\n",
       "      <td id=\"T_071b8_row123_col1\" class=\"data row123 col1\" >3048</td>\n",
       "    </tr>\n",
       "    <tr>\n",
       "      <th id=\"T_071b8_level0_row124\" class=\"row_heading level0 row124\" >124</th>\n",
       "      <td id=\"T_071b8_row124_col0\" class=\"data row124 col0\" >Rwanda</td>\n",
       "      <td id=\"T_071b8_row124_col1\" class=\"data row124 col1\" >2</td>\n",
       "    </tr>\n",
       "    <tr>\n",
       "      <th id=\"T_071b8_level0_row125\" class=\"row_heading level0 row125\" >125</th>\n",
       "      <td id=\"T_071b8_row125_col0\" class=\"data row125 col0\" >Réunion</td>\n",
       "      <td id=\"T_071b8_row125_col1\" class=\"data row125 col1\" >1</td>\n",
       "    </tr>\n",
       "    <tr>\n",
       "      <th id=\"T_071b8_level0_row126\" class=\"row_heading level0 row126\" >126</th>\n",
       "      <td id=\"T_071b8_row126_col0\" class=\"data row126 col0\" >Saint Kitts and Nevis</td>\n",
       "      <td id=\"T_071b8_row126_col1\" class=\"data row126 col1\" >1</td>\n",
       "    </tr>\n",
       "    <tr>\n",
       "      <th id=\"T_071b8_level0_row127\" class=\"row_heading level0 row127\" >127</th>\n",
       "      <td id=\"T_071b8_row127_col0\" class=\"data row127 col0\" >Saint Lucia</td>\n",
       "      <td id=\"T_071b8_row127_col1\" class=\"data row127 col1\" >1</td>\n",
       "    </tr>\n",
       "    <tr>\n",
       "      <th id=\"T_071b8_level0_row128\" class=\"row_heading level0 row128\" >128</th>\n",
       "      <td id=\"T_071b8_row128_col0\" class=\"data row128 col0\" >Samoa</td>\n",
       "      <td id=\"T_071b8_row128_col1\" class=\"data row128 col1\" >1</td>\n",
       "    </tr>\n",
       "    <tr>\n",
       "      <th id=\"T_071b8_level0_row129\" class=\"row_heading level0 row129\" >129</th>\n",
       "      <td id=\"T_071b8_row129_col0\" class=\"data row129 col0\" >Saudi Arabia</td>\n",
       "      <td id=\"T_071b8_row129_col1\" class=\"data row129 col1\" >181</td>\n",
       "    </tr>\n",
       "    <tr>\n",
       "      <th id=\"T_071b8_level0_row130\" class=\"row_heading level0 row130\" >130</th>\n",
       "      <td id=\"T_071b8_row130_col0\" class=\"data row130 col0\" >Senegal</td>\n",
       "      <td id=\"T_071b8_row130_col1\" class=\"data row130 col1\" >4</td>\n",
       "    </tr>\n",
       "    <tr>\n",
       "      <th id=\"T_071b8_level0_row131\" class=\"row_heading level0 row131\" >131</th>\n",
       "      <td id=\"T_071b8_row131_col0\" class=\"data row131 col0\" >Serbia</td>\n",
       "      <td id=\"T_071b8_row131_col1\" class=\"data row131 col1\" >74</td>\n",
       "    </tr>\n",
       "    <tr>\n",
       "      <th id=\"T_071b8_level0_row132\" class=\"row_heading level0 row132\" >132</th>\n",
       "      <td id=\"T_071b8_row132_col0\" class=\"data row132 col0\" >Seychelles</td>\n",
       "      <td id=\"T_071b8_row132_col1\" class=\"data row132 col1\" >1</td>\n",
       "    </tr>\n",
       "    <tr>\n",
       "      <th id=\"T_071b8_level0_row133\" class=\"row_heading level0 row133\" >133</th>\n",
       "      <td id=\"T_071b8_row133_col0\" class=\"data row133 col0\" >Sierra Leone</td>\n",
       "      <td id=\"T_071b8_row133_col1\" class=\"data row133 col1\" >2</td>\n",
       "    </tr>\n",
       "    <tr>\n",
       "      <th id=\"T_071b8_level0_row134\" class=\"row_heading level0 row134\" >134</th>\n",
       "      <td id=\"T_071b8_row134_col0\" class=\"data row134 col0\" >Singapore</td>\n",
       "      <td id=\"T_071b8_row134_col1\" class=\"data row134 col1\" >239</td>\n",
       "    </tr>\n",
       "    <tr>\n",
       "      <th id=\"T_071b8_level0_row135\" class=\"row_heading level0 row135\" >135</th>\n",
       "      <td id=\"T_071b8_row135_col0\" class=\"data row135 col0\" >Slovakia</td>\n",
       "      <td id=\"T_071b8_row135_col1\" class=\"data row135 col1\" >257</td>\n",
       "    </tr>\n",
       "    <tr>\n",
       "      <th id=\"T_071b8_level0_row136\" class=\"row_heading level0 row136\" >136</th>\n",
       "      <td id=\"T_071b8_row136_col0\" class=\"data row136 col0\" >Slovenia</td>\n",
       "      <td id=\"T_071b8_row136_col1\" class=\"data row136 col1\" >112</td>\n",
       "    </tr>\n",
       "    <tr>\n",
       "      <th id=\"T_071b8_level0_row137\" class=\"row_heading level0 row137\" >137</th>\n",
       "      <td id=\"T_071b8_row137_col0\" class=\"data row137 col0\" >Somalia</td>\n",
       "      <td id=\"T_071b8_row137_col1\" class=\"data row137 col1\" >1</td>\n",
       "    </tr>\n",
       "    <tr>\n",
       "      <th id=\"T_071b8_level0_row138\" class=\"row_heading level0 row138\" >138</th>\n",
       "      <td id=\"T_071b8_row138_col0\" class=\"data row138 col0\" >South Africa</td>\n",
       "      <td id=\"T_071b8_row138_col1\" class=\"data row138 col1\" >403</td>\n",
       "    </tr>\n",
       "    <tr>\n",
       "      <th id=\"T_071b8_level0_row139\" class=\"row_heading level0 row139\" >139</th>\n",
       "      <td id=\"T_071b8_row139_col0\" class=\"data row139 col0\" >South Korea</td>\n",
       "      <td id=\"T_071b8_row139_col1\" class=\"data row139 col1\" >3</td>\n",
       "    </tr>\n",
       "    <tr>\n",
       "      <th id=\"T_071b8_level0_row140\" class=\"row_heading level0 row140\" >140</th>\n",
       "      <td id=\"T_071b8_row140_col0\" class=\"data row140 col0\" >Spain</td>\n",
       "      <td id=\"T_071b8_row140_col1\" class=\"data row140 col1\" >1531</td>\n",
       "    </tr>\n",
       "    <tr>\n",
       "      <th id=\"T_071b8_level0_row141\" class=\"row_heading level0 row141\" >141</th>\n",
       "      <td id=\"T_071b8_row141_col0\" class=\"data row141 col0\" >Sri Lanka</td>\n",
       "      <td id=\"T_071b8_row141_col1\" class=\"data row141 col1\" >23</td>\n",
       "    </tr>\n",
       "    <tr>\n",
       "      <th id=\"T_071b8_level0_row142\" class=\"row_heading level0 row142\" >142</th>\n",
       "      <td id=\"T_071b8_row142_col0\" class=\"data row142 col0\" >Sweden</td>\n",
       "      <td id=\"T_071b8_row142_col1\" class=\"data row142 col1\" >1259</td>\n",
       "    </tr>\n",
       "    <tr>\n",
       "      <th id=\"T_071b8_level0_row143\" class=\"row_heading level0 row143\" >143</th>\n",
       "      <td id=\"T_071b8_row143_col0\" class=\"data row143 col0\" >Switzerland</td>\n",
       "      <td id=\"T_071b8_row143_col1\" class=\"data row143 col1\" >1653</td>\n",
       "    </tr>\n",
       "    <tr>\n",
       "      <th id=\"T_071b8_level0_row144\" class=\"row_heading level0 row144\" >144</th>\n",
       "      <td id=\"T_071b8_row144_col0\" class=\"data row144 col0\" >Syria</td>\n",
       "      <td id=\"T_071b8_row144_col1\" class=\"data row144 col1\" >3</td>\n",
       "    </tr>\n",
       "    <tr>\n",
       "      <th id=\"T_071b8_level0_row145\" class=\"row_heading level0 row145\" >145</th>\n",
       "      <td id=\"T_071b8_row145_col0\" class=\"data row145 col0\" >Taiwan</td>\n",
       "      <td id=\"T_071b8_row145_col1\" class=\"data row145 col1\" >7</td>\n",
       "    </tr>\n",
       "    <tr>\n",
       "      <th id=\"T_071b8_level0_row146\" class=\"row_heading level0 row146\" >146</th>\n",
       "      <td id=\"T_071b8_row146_col0\" class=\"data row146 col0\" >Taiwan, Province of China</td>\n",
       "      <td id=\"T_071b8_row146_col1\" class=\"data row146 col1\" >441</td>\n",
       "    </tr>\n",
       "    <tr>\n",
       "      <th id=\"T_071b8_level0_row147\" class=\"row_heading level0 row147\" >147</th>\n",
       "      <td id=\"T_071b8_row147_col0\" class=\"data row147 col0\" >Tajikistan</td>\n",
       "      <td id=\"T_071b8_row147_col1\" class=\"data row147 col1\" >6</td>\n",
       "    </tr>\n",
       "    <tr>\n",
       "      <th id=\"T_071b8_level0_row148\" class=\"row_heading level0 row148\" >148</th>\n",
       "      <td id=\"T_071b8_row148_col0\" class=\"data row148 col0\" >Tanzania, United Republic of</td>\n",
       "      <td id=\"T_071b8_row148_col1\" class=\"data row148 col1\" >11</td>\n",
       "    </tr>\n",
       "    <tr>\n",
       "      <th id=\"T_071b8_level0_row149\" class=\"row_heading level0 row149\" >149</th>\n",
       "      <td id=\"T_071b8_row149_col0\" class=\"data row149 col0\" >Thailand</td>\n",
       "      <td id=\"T_071b8_row149_col1\" class=\"data row149 col1\" >386</td>\n",
       "    </tr>\n",
       "    <tr>\n",
       "      <th id=\"T_071b8_level0_row150\" class=\"row_heading level0 row150\" >150</th>\n",
       "      <td id=\"T_071b8_row150_col0\" class=\"data row150 col0\" >The Bahamas</td>\n",
       "      <td id=\"T_071b8_row150_col1\" class=\"data row150 col1\" >2</td>\n",
       "    </tr>\n",
       "    <tr>\n",
       "      <th id=\"T_071b8_level0_row151\" class=\"row_heading level0 row151\" >151</th>\n",
       "      <td id=\"T_071b8_row151_col0\" class=\"data row151 col0\" >Trinidad and Tobago</td>\n",
       "      <td id=\"T_071b8_row151_col1\" class=\"data row151 col1\" >8</td>\n",
       "    </tr>\n",
       "    <tr>\n",
       "      <th id=\"T_071b8_level0_row152\" class=\"row_heading level0 row152\" >152</th>\n",
       "      <td id=\"T_071b8_row152_col0\" class=\"data row152 col0\" >Tunisia</td>\n",
       "      <td id=\"T_071b8_row152_col1\" class=\"data row152 col1\" >2</td>\n",
       "    </tr>\n",
       "    <tr>\n",
       "      <th id=\"T_071b8_level0_row153\" class=\"row_heading level0 row153\" >153</th>\n",
       "      <td id=\"T_071b8_row153_col0\" class=\"data row153 col0\" >Turkey</td>\n",
       "      <td id=\"T_071b8_row153_col1\" class=\"data row153 col1\" >498</td>\n",
       "    </tr>\n",
       "    <tr>\n",
       "      <th id=\"T_071b8_level0_row154\" class=\"row_heading level0 row154\" >154</th>\n",
       "      <td id=\"T_071b8_row154_col0\" class=\"data row154 col0\" >Türkiye</td>\n",
       "      <td id=\"T_071b8_row154_col1\" class=\"data row154 col1\" >446</td>\n",
       "    </tr>\n",
       "    <tr>\n",
       "      <th id=\"T_071b8_level0_row155\" class=\"row_heading level0 row155\" >155</th>\n",
       "      <td id=\"T_071b8_row155_col0\" class=\"data row155 col0\" >Uganda</td>\n",
       "      <td id=\"T_071b8_row155_col1\" class=\"data row155 col1\" >2</td>\n",
       "    </tr>\n",
       "    <tr>\n",
       "      <th id=\"T_071b8_level0_row156\" class=\"row_heading level0 row156\" >156</th>\n",
       "      <td id=\"T_071b8_row156_col0\" class=\"data row156 col0\" >Ukraine</td>\n",
       "      <td id=\"T_071b8_row156_col1\" class=\"data row156 col1\" >304</td>\n",
       "    </tr>\n",
       "    <tr>\n",
       "      <th id=\"T_071b8_level0_row157\" class=\"row_heading level0 row157\" >157</th>\n",
       "      <td id=\"T_071b8_row157_col0\" class=\"data row157 col0\" >United Arab Emirates</td>\n",
       "      <td id=\"T_071b8_row157_col1\" class=\"data row157 col1\" >247</td>\n",
       "    </tr>\n",
       "    <tr>\n",
       "      <th id=\"T_071b8_level0_row158\" class=\"row_heading level0 row158\" >158</th>\n",
       "      <td id=\"T_071b8_row158_col0\" class=\"data row158 col0\" >United Kingdom</td>\n",
       "      <td id=\"T_071b8_row158_col1\" class=\"data row158 col1\" >256</td>\n",
       "    </tr>\n",
       "    <tr>\n",
       "      <th id=\"T_071b8_level0_row159\" class=\"row_heading level0 row159\" >159</th>\n",
       "      <td id=\"T_071b8_row159_col0\" class=\"data row159 col0\" >United Kingdom of Great Britain and Northern Ireland</td>\n",
       "      <td id=\"T_071b8_row159_col1\" class=\"data row159 col1\" >8541</td>\n",
       "    </tr>\n",
       "    <tr>\n",
       "      <th id=\"T_071b8_level0_row160\" class=\"row_heading level0 row160\" >160</th>\n",
       "      <td id=\"T_071b8_row160_col0\" class=\"data row160 col0\" >United States</td>\n",
       "      <td id=\"T_071b8_row160_col1\" class=\"data row160 col1\" >1206</td>\n",
       "    </tr>\n",
       "    <tr>\n",
       "      <th id=\"T_071b8_level0_row161\" class=\"row_heading level0 row161\" >161</th>\n",
       "      <td id=\"T_071b8_row161_col0\" class=\"data row161 col0\" >United States of America</td>\n",
       "      <td id=\"T_071b8_row161_col1\" class=\"data row161 col1\" >39016</td>\n",
       "    </tr>\n",
       "    <tr>\n",
       "      <th id=\"T_071b8_level0_row162\" class=\"row_heading level0 row162\" >162</th>\n",
       "      <td id=\"T_071b8_row162_col0\" class=\"data row162 col0\" >Unknown</td>\n",
       "      <td id=\"T_071b8_row162_col1\" class=\"data row162 col1\" >29107</td>\n",
       "    </tr>\n",
       "    <tr>\n",
       "      <th id=\"T_071b8_level0_row163\" class=\"row_heading level0 row163\" >163</th>\n",
       "      <td id=\"T_071b8_row163_col0\" class=\"data row163 col0\" >Uruguay</td>\n",
       "      <td id=\"T_071b8_row163_col1\" class=\"data row163 col1\" >40</td>\n",
       "    </tr>\n",
       "    <tr>\n",
       "      <th id=\"T_071b8_level0_row164\" class=\"row_heading level0 row164\" >164</th>\n",
       "      <td id=\"T_071b8_row164_col0\" class=\"data row164 col0\" >Uzbekistan</td>\n",
       "      <td id=\"T_071b8_row164_col1\" class=\"data row164 col1\" >56</td>\n",
       "    </tr>\n",
       "    <tr>\n",
       "      <th id=\"T_071b8_level0_row165\" class=\"row_heading level0 row165\" >165</th>\n",
       "      <td id=\"T_071b8_row165_col0\" class=\"data row165 col0\" >Venezuela</td>\n",
       "      <td id=\"T_071b8_row165_col1\" class=\"data row165 col1\" >13</td>\n",
       "    </tr>\n",
       "    <tr>\n",
       "      <th id=\"T_071b8_level0_row166\" class=\"row_heading level0 row166\" >166</th>\n",
       "      <td id=\"T_071b8_row166_col0\" class=\"data row166 col0\" >Venezuela (Bolivarian Republic of)</td>\n",
       "      <td id=\"T_071b8_row166_col1\" class=\"data row166 col1\" >5</td>\n",
       "    </tr>\n",
       "    <tr>\n",
       "      <th id=\"T_071b8_level0_row167\" class=\"row_heading level0 row167\" >167</th>\n",
       "      <td id=\"T_071b8_row167_col0\" class=\"data row167 col0\" >Viet Nam</td>\n",
       "      <td id=\"T_071b8_row167_col1\" class=\"data row167 col1\" >510</td>\n",
       "    </tr>\n",
       "    <tr>\n",
       "      <th id=\"T_071b8_level0_row168\" class=\"row_heading level0 row168\" >168</th>\n",
       "      <td id=\"T_071b8_row168_col0\" class=\"data row168 col0\" >Vietnam</td>\n",
       "      <td id=\"T_071b8_row168_col1\" class=\"data row168 col1\" >14</td>\n",
       "    </tr>\n",
       "    <tr>\n",
       "      <th id=\"T_071b8_level0_row169\" class=\"row_heading level0 row169\" >169</th>\n",
       "      <td id=\"T_071b8_row169_col0\" class=\"data row169 col0\" >Virgin Islands (U.S.)</td>\n",
       "      <td id=\"T_071b8_row169_col1\" class=\"data row169 col1\" >1</td>\n",
       "    </tr>\n",
       "    <tr>\n",
       "      <th id=\"T_071b8_level0_row170\" class=\"row_heading level0 row170\" >170</th>\n",
       "      <td id=\"T_071b8_row170_col0\" class=\"data row170 col0\" >Zambia</td>\n",
       "      <td id=\"T_071b8_row170_col1\" class=\"data row170 col1\" >3</td>\n",
       "    </tr>\n",
       "    <tr>\n",
       "      <th id=\"T_071b8_level0_row171\" class=\"row_heading level0 row171\" >171</th>\n",
       "      <td id=\"T_071b8_row171_col0\" class=\"data row171 col0\" >Zimbabwe</td>\n",
       "      <td id=\"T_071b8_row171_col1\" class=\"data row171 col1\" >4</td>\n",
       "    </tr>\n",
       "  </tbody>\n",
       "</table>\n"
      ],
      "text/plain": [
       "<pandas.io.formats.style.Styler at 0x13f4fdbd0>"
      ]
     },
     "metadata": {},
     "output_type": "display_data"
    }
   ],
   "source": [
    "countries = df.groupby('country')['oid'].agg('count').reset_index().rename(columns={'oid': 'count'})\n",
    "countries = countries.style.set_properties(**{'text-align': 'left'})\n",
    "display(countries)"
   ]
  },
  {
   "cell_type": "code",
   "execution_count": 786,
   "id": "11e84297-3f6f-412c-ab14-04357cb1d6c6",
   "metadata": {
    "tags": []
   },
   "outputs": [],
   "source": [
    "conditions = []\n",
    "values = []\n",
    "conditions.append(df['country'].str.contains('Bahamas')); values.append('Bahamas')\n",
    "conditions.append(df['country'].str.contains('Bolivia')); values.append('Bolivia')\n",
    "conditions.append(df['country'].str.contains('Korea \\(Republic of\\)')); values.append('South Korea')\n",
    "conditions.append(df['country'].str.contains('Macedonia \\(FYROM\\)')); values.append('North Macedonia')\n",
    "conditions.append(df['country'].str.contains('Russia')); values.append('Russia')\n",
    "conditions.append(df['country'].str.contains('Réunion')); values.append('France')  # see https://en.wikipedia.org/wiki/R%C3%A9union\n",
    "conditions.append(df['country'].str.contains('Taiwan')); values.append('Taiwan')\n",
    "conditions.append(df['country'].str.contains('Türkiye')); values.append('Taiwan')\n",
    "conditions.append(df['country'].str.contains('United Kingdom')); values.append('United Kingdom')\n",
    "conditions.append(df['country'].str.contains('United States')); values.append('United States')\n",
    "conditions.append(df['country'].str.contains('Virgin Islands \\(U.S.\\)')); values.append('United States')\n",
    "conditions.append(df['country'].str.contains('Venezuela')); values.append('Venezuela')\n",
    "conditions.append(df['country'].str.contains('Viet Nam')); values.append('Vietnam')\n",
    "df['country_new'] = np.select(conditions, values, default=None)\n",
    "df['country'] = np.where(df['country_new'], df['country_new'], df['country'])\n",
    "df = df.drop('country_new', axis=1)"
   ]
  },
  {
   "cell_type": "code",
   "execution_count": 787,
   "id": "2ac1e631-91f5-4cec-b627-660a16bffb02",
   "metadata": {
    "tags": []
   },
   "outputs": [
    {
     "data": {
      "text/html": [
       "<style type=\"text/css\">\n",
       "#T_0369b_row0_col0, #T_0369b_row0_col1, #T_0369b_row1_col0, #T_0369b_row1_col1, #T_0369b_row2_col0, #T_0369b_row2_col1, #T_0369b_row3_col0, #T_0369b_row3_col1, #T_0369b_row4_col0, #T_0369b_row4_col1, #T_0369b_row5_col0, #T_0369b_row5_col1, #T_0369b_row6_col0, #T_0369b_row6_col1, #T_0369b_row7_col0, #T_0369b_row7_col1, #T_0369b_row8_col0, #T_0369b_row8_col1, #T_0369b_row9_col0, #T_0369b_row9_col1, #T_0369b_row10_col0, #T_0369b_row10_col1, #T_0369b_row11_col0, #T_0369b_row11_col1, #T_0369b_row12_col0, #T_0369b_row12_col1, #T_0369b_row13_col0, #T_0369b_row13_col1, #T_0369b_row14_col0, #T_0369b_row14_col1, #T_0369b_row15_col0, #T_0369b_row15_col1, #T_0369b_row16_col0, #T_0369b_row16_col1, #T_0369b_row17_col0, #T_0369b_row17_col1, #T_0369b_row18_col0, #T_0369b_row18_col1, #T_0369b_row19_col0, #T_0369b_row19_col1, #T_0369b_row20_col0, #T_0369b_row20_col1, #T_0369b_row21_col0, #T_0369b_row21_col1, #T_0369b_row22_col0, #T_0369b_row22_col1, #T_0369b_row23_col0, #T_0369b_row23_col1, #T_0369b_row24_col0, #T_0369b_row24_col1, #T_0369b_row25_col0, #T_0369b_row25_col1, #T_0369b_row26_col0, #T_0369b_row26_col1, #T_0369b_row27_col0, #T_0369b_row27_col1, #T_0369b_row28_col0, #T_0369b_row28_col1, #T_0369b_row29_col0, #T_0369b_row29_col1, #T_0369b_row30_col0, #T_0369b_row30_col1, #T_0369b_row31_col0, #T_0369b_row31_col1, #T_0369b_row32_col0, #T_0369b_row32_col1, #T_0369b_row33_col0, #T_0369b_row33_col1, #T_0369b_row34_col0, #T_0369b_row34_col1, #T_0369b_row35_col0, #T_0369b_row35_col1, #T_0369b_row36_col0, #T_0369b_row36_col1, #T_0369b_row37_col0, #T_0369b_row37_col1, #T_0369b_row38_col0, #T_0369b_row38_col1, #T_0369b_row39_col0, #T_0369b_row39_col1, #T_0369b_row40_col0, #T_0369b_row40_col1, #T_0369b_row41_col0, #T_0369b_row41_col1, #T_0369b_row42_col0, #T_0369b_row42_col1, #T_0369b_row43_col0, #T_0369b_row43_col1, #T_0369b_row44_col0, #T_0369b_row44_col1, #T_0369b_row45_col0, #T_0369b_row45_col1, #T_0369b_row46_col0, #T_0369b_row46_col1, #T_0369b_row47_col0, #T_0369b_row47_col1, #T_0369b_row48_col0, #T_0369b_row48_col1, #T_0369b_row49_col0, #T_0369b_row49_col1, #T_0369b_row50_col0, #T_0369b_row50_col1, #T_0369b_row51_col0, #T_0369b_row51_col1, #T_0369b_row52_col0, #T_0369b_row52_col1, #T_0369b_row53_col0, #T_0369b_row53_col1, #T_0369b_row54_col0, #T_0369b_row54_col1, #T_0369b_row55_col0, #T_0369b_row55_col1, #T_0369b_row56_col0, #T_0369b_row56_col1, #T_0369b_row57_col0, #T_0369b_row57_col1, #T_0369b_row58_col0, #T_0369b_row58_col1, #T_0369b_row59_col0, #T_0369b_row59_col1, #T_0369b_row60_col0, #T_0369b_row60_col1, #T_0369b_row61_col0, #T_0369b_row61_col1, #T_0369b_row62_col0, #T_0369b_row62_col1, #T_0369b_row63_col0, #T_0369b_row63_col1, #T_0369b_row64_col0, #T_0369b_row64_col1, #T_0369b_row65_col0, #T_0369b_row65_col1, #T_0369b_row66_col0, #T_0369b_row66_col1, #T_0369b_row67_col0, #T_0369b_row67_col1, #T_0369b_row68_col0, #T_0369b_row68_col1, #T_0369b_row69_col0, #T_0369b_row69_col1, #T_0369b_row70_col0, #T_0369b_row70_col1, #T_0369b_row71_col0, #T_0369b_row71_col1, #T_0369b_row72_col0, #T_0369b_row72_col1, #T_0369b_row73_col0, #T_0369b_row73_col1, #T_0369b_row74_col0, #T_0369b_row74_col1, #T_0369b_row75_col0, #T_0369b_row75_col1, #T_0369b_row76_col0, #T_0369b_row76_col1, #T_0369b_row77_col0, #T_0369b_row77_col1, #T_0369b_row78_col0, #T_0369b_row78_col1, #T_0369b_row79_col0, #T_0369b_row79_col1, #T_0369b_row80_col0, #T_0369b_row80_col1, #T_0369b_row81_col0, #T_0369b_row81_col1, #T_0369b_row82_col0, #T_0369b_row82_col1, #T_0369b_row83_col0, #T_0369b_row83_col1, #T_0369b_row84_col0, #T_0369b_row84_col1, #T_0369b_row85_col0, #T_0369b_row85_col1, #T_0369b_row86_col0, #T_0369b_row86_col1, #T_0369b_row87_col0, #T_0369b_row87_col1, #T_0369b_row88_col0, #T_0369b_row88_col1, #T_0369b_row89_col0, #T_0369b_row89_col1, #T_0369b_row90_col0, #T_0369b_row90_col1, #T_0369b_row91_col0, #T_0369b_row91_col1, #T_0369b_row92_col0, #T_0369b_row92_col1, #T_0369b_row93_col0, #T_0369b_row93_col1, #T_0369b_row94_col0, #T_0369b_row94_col1, #T_0369b_row95_col0, #T_0369b_row95_col1, #T_0369b_row96_col0, #T_0369b_row96_col1, #T_0369b_row97_col0, #T_0369b_row97_col1, #T_0369b_row98_col0, #T_0369b_row98_col1, #T_0369b_row99_col0, #T_0369b_row99_col1, #T_0369b_row100_col0, #T_0369b_row100_col1, #T_0369b_row101_col0, #T_0369b_row101_col1, #T_0369b_row102_col0, #T_0369b_row102_col1, #T_0369b_row103_col0, #T_0369b_row103_col1, #T_0369b_row104_col0, #T_0369b_row104_col1, #T_0369b_row105_col0, #T_0369b_row105_col1, #T_0369b_row106_col0, #T_0369b_row106_col1, #T_0369b_row107_col0, #T_0369b_row107_col1, #T_0369b_row108_col0, #T_0369b_row108_col1, #T_0369b_row109_col0, #T_0369b_row109_col1, #T_0369b_row110_col0, #T_0369b_row110_col1, #T_0369b_row111_col0, #T_0369b_row111_col1, #T_0369b_row112_col0, #T_0369b_row112_col1, #T_0369b_row113_col0, #T_0369b_row113_col1, #T_0369b_row114_col0, #T_0369b_row114_col1, #T_0369b_row115_col0, #T_0369b_row115_col1, #T_0369b_row116_col0, #T_0369b_row116_col1, #T_0369b_row117_col0, #T_0369b_row117_col1, #T_0369b_row118_col0, #T_0369b_row118_col1, #T_0369b_row119_col0, #T_0369b_row119_col1, #T_0369b_row120_col0, #T_0369b_row120_col1, #T_0369b_row121_col0, #T_0369b_row121_col1, #T_0369b_row122_col0, #T_0369b_row122_col1, #T_0369b_row123_col0, #T_0369b_row123_col1, #T_0369b_row124_col0, #T_0369b_row124_col1, #T_0369b_row125_col0, #T_0369b_row125_col1, #T_0369b_row126_col0, #T_0369b_row126_col1, #T_0369b_row127_col0, #T_0369b_row127_col1, #T_0369b_row128_col0, #T_0369b_row128_col1, #T_0369b_row129_col0, #T_0369b_row129_col1, #T_0369b_row130_col0, #T_0369b_row130_col1, #T_0369b_row131_col0, #T_0369b_row131_col1, #T_0369b_row132_col0, #T_0369b_row132_col1, #T_0369b_row133_col0, #T_0369b_row133_col1, #T_0369b_row134_col0, #T_0369b_row134_col1, #T_0369b_row135_col0, #T_0369b_row135_col1, #T_0369b_row136_col0, #T_0369b_row136_col1, #T_0369b_row137_col0, #T_0369b_row137_col1, #T_0369b_row138_col0, #T_0369b_row138_col1, #T_0369b_row139_col0, #T_0369b_row139_col1, #T_0369b_row140_col0, #T_0369b_row140_col1, #T_0369b_row141_col0, #T_0369b_row141_col1, #T_0369b_row142_col0, #T_0369b_row142_col1, #T_0369b_row143_col0, #T_0369b_row143_col1, #T_0369b_row144_col0, #T_0369b_row144_col1, #T_0369b_row145_col0, #T_0369b_row145_col1, #T_0369b_row146_col0, #T_0369b_row146_col1, #T_0369b_row147_col0, #T_0369b_row147_col1, #T_0369b_row148_col0, #T_0369b_row148_col1, #T_0369b_row149_col0, #T_0369b_row149_col1, #T_0369b_row150_col0, #T_0369b_row150_col1, #T_0369b_row151_col0, #T_0369b_row151_col1, #T_0369b_row152_col0, #T_0369b_row152_col1, #T_0369b_row153_col0, #T_0369b_row153_col1, #T_0369b_row154_col0, #T_0369b_row154_col1, #T_0369b_row155_col0, #T_0369b_row155_col1, #T_0369b_row156_col0, #T_0369b_row156_col1, #T_0369b_row157_col0, #T_0369b_row157_col1, #T_0369b_row158_col0, #T_0369b_row158_col1 {\n",
       "  text-align: left;\n",
       "}\n",
       "</style>\n",
       "<table id=\"T_0369b\">\n",
       "  <thead>\n",
       "    <tr>\n",
       "      <th class=\"blank level0\" >&nbsp;</th>\n",
       "      <th id=\"T_0369b_level0_col0\" class=\"col_heading level0 col0\" >country</th>\n",
       "      <th id=\"T_0369b_level0_col1\" class=\"col_heading level0 col1\" >count</th>\n",
       "    </tr>\n",
       "  </thead>\n",
       "  <tbody>\n",
       "    <tr>\n",
       "      <th id=\"T_0369b_level0_row0\" class=\"row_heading level0 row0\" >0</th>\n",
       "      <td id=\"T_0369b_row0_col0\" class=\"data row0 col0\" >Albania</td>\n",
       "      <td id=\"T_0369b_row0_col1\" class=\"data row0 col1\" >34</td>\n",
       "    </tr>\n",
       "    <tr>\n",
       "      <th id=\"T_0369b_level0_row1\" class=\"row_heading level0 row1\" >1</th>\n",
       "      <td id=\"T_0369b_row1_col0\" class=\"data row1 col0\" >Algeria</td>\n",
       "      <td id=\"T_0369b_row1_col1\" class=\"data row1 col1\" >6</td>\n",
       "    </tr>\n",
       "    <tr>\n",
       "      <th id=\"T_0369b_level0_row2\" class=\"row_heading level0 row2\" >2</th>\n",
       "      <td id=\"T_0369b_row2_col0\" class=\"data row2 col0\" >Anguilla</td>\n",
       "      <td id=\"T_0369b_row2_col1\" class=\"data row2 col1\" >1</td>\n",
       "    </tr>\n",
       "    <tr>\n",
       "      <th id=\"T_0369b_level0_row3\" class=\"row_heading level0 row3\" >3</th>\n",
       "      <td id=\"T_0369b_row3_col0\" class=\"data row3 col0\" >Antarctica</td>\n",
       "      <td id=\"T_0369b_row3_col1\" class=\"data row3 col1\" >1</td>\n",
       "    </tr>\n",
       "    <tr>\n",
       "      <th id=\"T_0369b_level0_row4\" class=\"row_heading level0 row4\" >4</th>\n",
       "      <td id=\"T_0369b_row4_col0\" class=\"data row4 col0\" >Argentina</td>\n",
       "      <td id=\"T_0369b_row4_col1\" class=\"data row4 col1\" >227</td>\n",
       "    </tr>\n",
       "    <tr>\n",
       "      <th id=\"T_0369b_level0_row5\" class=\"row_heading level0 row5\" >5</th>\n",
       "      <td id=\"T_0369b_row5_col0\" class=\"data row5 col0\" >Armenia</td>\n",
       "      <td id=\"T_0369b_row5_col1\" class=\"data row5 col1\" >50</td>\n",
       "    </tr>\n",
       "    <tr>\n",
       "      <th id=\"T_0369b_level0_row6\" class=\"row_heading level0 row6\" >6</th>\n",
       "      <td id=\"T_0369b_row6_col0\" class=\"data row6 col0\" >Aruba</td>\n",
       "      <td id=\"T_0369b_row6_col1\" class=\"data row6 col1\" >1</td>\n",
       "    </tr>\n",
       "    <tr>\n",
       "      <th id=\"T_0369b_level0_row7\" class=\"row_heading level0 row7\" >7</th>\n",
       "      <td id=\"T_0369b_row7_col0\" class=\"data row7 col0\" >Australia</td>\n",
       "      <td id=\"T_0369b_row7_col1\" class=\"data row7 col1\" >3105</td>\n",
       "    </tr>\n",
       "    <tr>\n",
       "      <th id=\"T_0369b_level0_row8\" class=\"row_heading level0 row8\" >8</th>\n",
       "      <td id=\"T_0369b_row8_col0\" class=\"data row8 col0\" >Austria</td>\n",
       "      <td id=\"T_0369b_row8_col1\" class=\"data row8 col1\" >900</td>\n",
       "    </tr>\n",
       "    <tr>\n",
       "      <th id=\"T_0369b_level0_row9\" class=\"row_heading level0 row9\" >9</th>\n",
       "      <td id=\"T_0369b_row9_col0\" class=\"data row9 col0\" >Azerbaijan</td>\n",
       "      <td id=\"T_0369b_row9_col1\" class=\"data row9 col1\" >34</td>\n",
       "    </tr>\n",
       "    <tr>\n",
       "      <th id=\"T_0369b_level0_row10\" class=\"row_heading level0 row10\" >10</th>\n",
       "      <td id=\"T_0369b_row10_col0\" class=\"data row10 col0\" >Bahamas</td>\n",
       "      <td id=\"T_0369b_row10_col1\" class=\"data row10 col1\" >3</td>\n",
       "    </tr>\n",
       "    <tr>\n",
       "      <th id=\"T_0369b_level0_row11\" class=\"row_heading level0 row11\" >11</th>\n",
       "      <td id=\"T_0369b_row11_col0\" class=\"data row11 col0\" >Bahrain</td>\n",
       "      <td id=\"T_0369b_row11_col1\" class=\"data row11 col1\" >15</td>\n",
       "    </tr>\n",
       "    <tr>\n",
       "      <th id=\"T_0369b_level0_row12\" class=\"row_heading level0 row12\" >12</th>\n",
       "      <td id=\"T_0369b_row12_col0\" class=\"data row12 col0\" >Bangladesh</td>\n",
       "      <td id=\"T_0369b_row12_col1\" class=\"data row12 col1\" >4</td>\n",
       "    </tr>\n",
       "    <tr>\n",
       "      <th id=\"T_0369b_level0_row13\" class=\"row_heading level0 row13\" >13</th>\n",
       "      <td id=\"T_0369b_row13_col0\" class=\"data row13 col0\" >Barbados</td>\n",
       "      <td id=\"T_0369b_row13_col1\" class=\"data row13 col1\" >3</td>\n",
       "    </tr>\n",
       "    <tr>\n",
       "      <th id=\"T_0369b_level0_row14\" class=\"row_heading level0 row14\" >14</th>\n",
       "      <td id=\"T_0369b_row14_col0\" class=\"data row14 col0\" >Belarus</td>\n",
       "      <td id=\"T_0369b_row14_col1\" class=\"data row14 col1\" >93</td>\n",
       "    </tr>\n",
       "    <tr>\n",
       "      <th id=\"T_0369b_level0_row15\" class=\"row_heading level0 row15\" >15</th>\n",
       "      <td id=\"T_0369b_row15_col0\" class=\"data row15 col0\" >Belgium</td>\n",
       "      <td id=\"T_0369b_row15_col1\" class=\"data row15 col1\" >701</td>\n",
       "    </tr>\n",
       "    <tr>\n",
       "      <th id=\"T_0369b_level0_row16\" class=\"row_heading level0 row16\" >16</th>\n",
       "      <td id=\"T_0369b_row16_col0\" class=\"data row16 col0\" >Benin</td>\n",
       "      <td id=\"T_0369b_row16_col1\" class=\"data row16 col1\" >5</td>\n",
       "    </tr>\n",
       "    <tr>\n",
       "      <th id=\"T_0369b_level0_row17\" class=\"row_heading level0 row17\" >17</th>\n",
       "      <td id=\"T_0369b_row17_col0\" class=\"data row17 col0\" >Bermuda</td>\n",
       "      <td id=\"T_0369b_row17_col1\" class=\"data row17 col1\" >1</td>\n",
       "    </tr>\n",
       "    <tr>\n",
       "      <th id=\"T_0369b_level0_row18\" class=\"row_heading level0 row18\" >18</th>\n",
       "      <td id=\"T_0369b_row18_col0\" class=\"data row18 col0\" >Bhutan</td>\n",
       "      <td id=\"T_0369b_row18_col1\" class=\"data row18 col1\" >2</td>\n",
       "    </tr>\n",
       "    <tr>\n",
       "      <th id=\"T_0369b_level0_row19\" class=\"row_heading level0 row19\" >19</th>\n",
       "      <td id=\"T_0369b_row19_col0\" class=\"data row19 col0\" >Bolivia</td>\n",
       "      <td id=\"T_0369b_row19_col1\" class=\"data row19 col1\" >42</td>\n",
       "    </tr>\n",
       "    <tr>\n",
       "      <th id=\"T_0369b_level0_row20\" class=\"row_heading level0 row20\" >20</th>\n",
       "      <td id=\"T_0369b_row20_col0\" class=\"data row20 col0\" >Bosnia and Herzegovina</td>\n",
       "      <td id=\"T_0369b_row20_col1\" class=\"data row20 col1\" >7</td>\n",
       "    </tr>\n",
       "    <tr>\n",
       "      <th id=\"T_0369b_level0_row21\" class=\"row_heading level0 row21\" >21</th>\n",
       "      <td id=\"T_0369b_row21_col0\" class=\"data row21 col0\" >Botswana</td>\n",
       "      <td id=\"T_0369b_row21_col1\" class=\"data row21 col1\" >1</td>\n",
       "    </tr>\n",
       "    <tr>\n",
       "      <th id=\"T_0369b_level0_row22\" class=\"row_heading level0 row22\" >22</th>\n",
       "      <td id=\"T_0369b_row22_col0\" class=\"data row22 col0\" >Brazil</td>\n",
       "      <td id=\"T_0369b_row22_col1\" class=\"data row22 col1\" >1130</td>\n",
       "    </tr>\n",
       "    <tr>\n",
       "      <th id=\"T_0369b_level0_row23\" class=\"row_heading level0 row23\" >23</th>\n",
       "      <td id=\"T_0369b_row23_col0\" class=\"data row23 col0\" >Brunei Darussalam</td>\n",
       "      <td id=\"T_0369b_row23_col1\" class=\"data row23 col1\" >5</td>\n",
       "    </tr>\n",
       "    <tr>\n",
       "      <th id=\"T_0369b_level0_row24\" class=\"row_heading level0 row24\" >24</th>\n",
       "      <td id=\"T_0369b_row24_col0\" class=\"data row24 col0\" >Bulgaria</td>\n",
       "      <td id=\"T_0369b_row24_col1\" class=\"data row24 col1\" >123</td>\n",
       "    </tr>\n",
       "    <tr>\n",
       "      <th id=\"T_0369b_level0_row25\" class=\"row_heading level0 row25\" >25</th>\n",
       "      <td id=\"T_0369b_row25_col0\" class=\"data row25 col0\" >Burkina Faso</td>\n",
       "      <td id=\"T_0369b_row25_col1\" class=\"data row25 col1\" >2</td>\n",
       "    </tr>\n",
       "    <tr>\n",
       "      <th id=\"T_0369b_level0_row26\" class=\"row_heading level0 row26\" >26</th>\n",
       "      <td id=\"T_0369b_row26_col0\" class=\"data row26 col0\" >Cabo Verde</td>\n",
       "      <td id=\"T_0369b_row26_col1\" class=\"data row26 col1\" >1</td>\n",
       "    </tr>\n",
       "    <tr>\n",
       "      <th id=\"T_0369b_level0_row27\" class=\"row_heading level0 row27\" >27</th>\n",
       "      <td id=\"T_0369b_row27_col0\" class=\"data row27 col0\" >Cambodia</td>\n",
       "      <td id=\"T_0369b_row27_col1\" class=\"data row27 col1\" >33</td>\n",
       "    </tr>\n",
       "    <tr>\n",
       "      <th id=\"T_0369b_level0_row28\" class=\"row_heading level0 row28\" >28</th>\n",
       "      <td id=\"T_0369b_row28_col0\" class=\"data row28 col0\" >Canada</td>\n",
       "      <td id=\"T_0369b_row28_col1\" class=\"data row28 col1\" >4018</td>\n",
       "    </tr>\n",
       "    <tr>\n",
       "      <th id=\"T_0369b_level0_row29\" class=\"row_heading level0 row29\" >29</th>\n",
       "      <td id=\"T_0369b_row29_col0\" class=\"data row29 col0\" >Cayman Islands</td>\n",
       "      <td id=\"T_0369b_row29_col1\" class=\"data row29 col1\" >2</td>\n",
       "    </tr>\n",
       "    <tr>\n",
       "      <th id=\"T_0369b_level0_row30\" class=\"row_heading level0 row30\" >30</th>\n",
       "      <td id=\"T_0369b_row30_col0\" class=\"data row30 col0\" >Chile</td>\n",
       "      <td id=\"T_0369b_row30_col1\" class=\"data row30 col1\" >447</td>\n",
       "    </tr>\n",
       "    <tr>\n",
       "      <th id=\"T_0369b_level0_row31\" class=\"row_heading level0 row31\" >31</th>\n",
       "      <td id=\"T_0369b_row31_col0\" class=\"data row31 col0\" >China</td>\n",
       "      <td id=\"T_0369b_row31_col1\" class=\"data row31 col1\" >1482</td>\n",
       "    </tr>\n",
       "    <tr>\n",
       "      <th id=\"T_0369b_level0_row32\" class=\"row_heading level0 row32\" >32</th>\n",
       "      <td id=\"T_0369b_row32_col0\" class=\"data row32 col0\" >Colombia</td>\n",
       "      <td id=\"T_0369b_row32_col1\" class=\"data row32 col1\" >351</td>\n",
       "    </tr>\n",
       "    <tr>\n",
       "      <th id=\"T_0369b_level0_row33\" class=\"row_heading level0 row33\" >33</th>\n",
       "      <td id=\"T_0369b_row33_col0\" class=\"data row33 col0\" >Congo (Democratic Republic of the)</td>\n",
       "      <td id=\"T_0369b_row33_col1\" class=\"data row33 col1\" >5</td>\n",
       "    </tr>\n",
       "    <tr>\n",
       "      <th id=\"T_0369b_level0_row34\" class=\"row_heading level0 row34\" >34</th>\n",
       "      <td id=\"T_0369b_row34_col0\" class=\"data row34 col0\" >Costa Rica</td>\n",
       "      <td id=\"T_0369b_row34_col1\" class=\"data row34 col1\" >62</td>\n",
       "    </tr>\n",
       "    <tr>\n",
       "      <th id=\"T_0369b_level0_row35\" class=\"row_heading level0 row35\" >35</th>\n",
       "      <td id=\"T_0369b_row35_col0\" class=\"data row35 col0\" >Croatia</td>\n",
       "      <td id=\"T_0369b_row35_col1\" class=\"data row35 col1\" >146</td>\n",
       "    </tr>\n",
       "    <tr>\n",
       "      <th id=\"T_0369b_level0_row36\" class=\"row_heading level0 row36\" >36</th>\n",
       "      <td id=\"T_0369b_row36_col0\" class=\"data row36 col0\" >Cyprus</td>\n",
       "      <td id=\"T_0369b_row36_col1\" class=\"data row36 col1\" >41</td>\n",
       "    </tr>\n",
       "    <tr>\n",
       "      <th id=\"T_0369b_level0_row37\" class=\"row_heading level0 row37\" >37</th>\n",
       "      <td id=\"T_0369b_row37_col0\" class=\"data row37 col0\" >Czechia</td>\n",
       "      <td id=\"T_0369b_row37_col1\" class=\"data row37 col1\" >624</td>\n",
       "    </tr>\n",
       "    <tr>\n",
       "      <th id=\"T_0369b_level0_row38\" class=\"row_heading level0 row38\" >38</th>\n",
       "      <td id=\"T_0369b_row38_col0\" class=\"data row38 col0\" >Côte d'Ivoire</td>\n",
       "      <td id=\"T_0369b_row38_col1\" class=\"data row38 col1\" >2</td>\n",
       "    </tr>\n",
       "    <tr>\n",
       "      <th id=\"T_0369b_level0_row39\" class=\"row_heading level0 row39\" >39</th>\n",
       "      <td id=\"T_0369b_row39_col0\" class=\"data row39 col0\" >Denmark</td>\n",
       "      <td id=\"T_0369b_row39_col1\" class=\"data row39 col1\" >716</td>\n",
       "    </tr>\n",
       "    <tr>\n",
       "      <th id=\"T_0369b_level0_row40\" class=\"row_heading level0 row40\" >40</th>\n",
       "      <td id=\"T_0369b_row40_col0\" class=\"data row40 col0\" >Dominican Republic</td>\n",
       "      <td id=\"T_0369b_row40_col1\" class=\"data row40 col1\" >61</td>\n",
       "    </tr>\n",
       "    <tr>\n",
       "      <th id=\"T_0369b_level0_row41\" class=\"row_heading level0 row41\" >41</th>\n",
       "      <td id=\"T_0369b_row41_col0\" class=\"data row41 col0\" >Ecuador</td>\n",
       "      <td id=\"T_0369b_row41_col1\" class=\"data row41 col1\" >101</td>\n",
       "    </tr>\n",
       "    <tr>\n",
       "      <th id=\"T_0369b_level0_row42\" class=\"row_heading level0 row42\" >42</th>\n",
       "      <td id=\"T_0369b_row42_col0\" class=\"data row42 col0\" >Egypt</td>\n",
       "      <td id=\"T_0369b_row42_col1\" class=\"data row42 col1\" >119</td>\n",
       "    </tr>\n",
       "    <tr>\n",
       "      <th id=\"T_0369b_level0_row43\" class=\"row_heading level0 row43\" >43</th>\n",
       "      <td id=\"T_0369b_row43_col0\" class=\"data row43 col0\" >El Salvador</td>\n",
       "      <td id=\"T_0369b_row43_col1\" class=\"data row43 col1\" >27</td>\n",
       "    </tr>\n",
       "    <tr>\n",
       "      <th id=\"T_0369b_level0_row44\" class=\"row_heading level0 row44\" >44</th>\n",
       "      <td id=\"T_0369b_row44_col0\" class=\"data row44 col0\" >Estonia</td>\n",
       "      <td id=\"T_0369b_row44_col1\" class=\"data row44 col1\" >91</td>\n",
       "    </tr>\n",
       "    <tr>\n",
       "      <th id=\"T_0369b_level0_row45\" class=\"row_heading level0 row45\" >45</th>\n",
       "      <td id=\"T_0369b_row45_col0\" class=\"data row45 col0\" >Eswatini</td>\n",
       "      <td id=\"T_0369b_row45_col1\" class=\"data row45 col1\" >1</td>\n",
       "    </tr>\n",
       "    <tr>\n",
       "      <th id=\"T_0369b_level0_row46\" class=\"row_heading level0 row46\" >46</th>\n",
       "      <td id=\"T_0369b_row46_col0\" class=\"data row46 col0\" >Fiji</td>\n",
       "      <td id=\"T_0369b_row46_col1\" class=\"data row46 col1\" >2</td>\n",
       "    </tr>\n",
       "    <tr>\n",
       "      <th id=\"T_0369b_level0_row47\" class=\"row_heading level0 row47\" >47</th>\n",
       "      <td id=\"T_0369b_row47_col0\" class=\"data row47 col0\" >Finland</td>\n",
       "      <td id=\"T_0369b_row47_col1\" class=\"data row47 col1\" >484</td>\n",
       "    </tr>\n",
       "    <tr>\n",
       "      <th id=\"T_0369b_level0_row48\" class=\"row_heading level0 row48\" >48</th>\n",
       "      <td id=\"T_0369b_row48_col0\" class=\"data row48 col0\" >France</td>\n",
       "      <td id=\"T_0369b_row48_col1\" class=\"data row48 col1\" >4302</td>\n",
       "    </tr>\n",
       "    <tr>\n",
       "      <th id=\"T_0369b_level0_row49\" class=\"row_heading level0 row49\" >49</th>\n",
       "      <td id=\"T_0369b_row49_col0\" class=\"data row49 col0\" >Georgia</td>\n",
       "      <td id=\"T_0369b_row49_col1\" class=\"data row49 col1\" >56</td>\n",
       "    </tr>\n",
       "    <tr>\n",
       "      <th id=\"T_0369b_level0_row50\" class=\"row_heading level0 row50\" >50</th>\n",
       "      <td id=\"T_0369b_row50_col0\" class=\"data row50 col0\" >Germany</td>\n",
       "      <td id=\"T_0369b_row50_col1\" class=\"data row50 col1\" >8362</td>\n",
       "    </tr>\n",
       "    <tr>\n",
       "      <th id=\"T_0369b_level0_row51\" class=\"row_heading level0 row51\" >51</th>\n",
       "      <td id=\"T_0369b_row51_col0\" class=\"data row51 col0\" >Ghana</td>\n",
       "      <td id=\"T_0369b_row51_col1\" class=\"data row51 col1\" >17</td>\n",
       "    </tr>\n",
       "    <tr>\n",
       "      <th id=\"T_0369b_level0_row52\" class=\"row_heading level0 row52\" >52</th>\n",
       "      <td id=\"T_0369b_row52_col0\" class=\"data row52 col0\" >Greece</td>\n",
       "      <td id=\"T_0369b_row52_col1\" class=\"data row52 col1\" >286</td>\n",
       "    </tr>\n",
       "    <tr>\n",
       "      <th id=\"T_0369b_level0_row53\" class=\"row_heading level0 row53\" >53</th>\n",
       "      <td id=\"T_0369b_row53_col0\" class=\"data row53 col0\" >Grenada</td>\n",
       "      <td id=\"T_0369b_row53_col1\" class=\"data row53 col1\" >1</td>\n",
       "    </tr>\n",
       "    <tr>\n",
       "      <th id=\"T_0369b_level0_row54\" class=\"row_heading level0 row54\" >54</th>\n",
       "      <td id=\"T_0369b_row54_col0\" class=\"data row54 col0\" >Guatemala</td>\n",
       "      <td id=\"T_0369b_row54_col1\" class=\"data row54 col1\" >63</td>\n",
       "    </tr>\n",
       "    <tr>\n",
       "      <th id=\"T_0369b_level0_row55\" class=\"row_heading level0 row55\" >55</th>\n",
       "      <td id=\"T_0369b_row55_col0\" class=\"data row55 col0\" >Guernsey</td>\n",
       "      <td id=\"T_0369b_row55_col1\" class=\"data row55 col1\" >1</td>\n",
       "    </tr>\n",
       "    <tr>\n",
       "      <th id=\"T_0369b_level0_row56\" class=\"row_heading level0 row56\" >56</th>\n",
       "      <td id=\"T_0369b_row56_col0\" class=\"data row56 col0\" >Haiti</td>\n",
       "      <td id=\"T_0369b_row56_col1\" class=\"data row56 col1\" >1</td>\n",
       "    </tr>\n",
       "    <tr>\n",
       "      <th id=\"T_0369b_level0_row57\" class=\"row_heading level0 row57\" >57</th>\n",
       "      <td id=\"T_0369b_row57_col0\" class=\"data row57 col0\" >Honduras</td>\n",
       "      <td id=\"T_0369b_row57_col1\" class=\"data row57 col1\" >18</td>\n",
       "    </tr>\n",
       "    <tr>\n",
       "      <th id=\"T_0369b_level0_row58\" class=\"row_heading level0 row58\" >58</th>\n",
       "      <td id=\"T_0369b_row58_col0\" class=\"data row58 col0\" >Hong Kong</td>\n",
       "      <td id=\"T_0369b_row58_col1\" class=\"data row58 col1\" >337</td>\n",
       "    </tr>\n",
       "    <tr>\n",
       "      <th id=\"T_0369b_level0_row59\" class=\"row_heading level0 row59\" >59</th>\n",
       "      <td id=\"T_0369b_row59_col0\" class=\"data row59 col0\" >Hungary</td>\n",
       "      <td id=\"T_0369b_row59_col1\" class=\"data row59 col1\" >339</td>\n",
       "    </tr>\n",
       "    <tr>\n",
       "      <th id=\"T_0369b_level0_row60\" class=\"row_heading level0 row60\" >60</th>\n",
       "      <td id=\"T_0369b_row60_col0\" class=\"data row60 col0\" >Iceland</td>\n",
       "      <td id=\"T_0369b_row60_col1\" class=\"data row60 col1\" >88</td>\n",
       "    </tr>\n",
       "    <tr>\n",
       "      <th id=\"T_0369b_level0_row61\" class=\"row_heading level0 row61\" >61</th>\n",
       "      <td id=\"T_0369b_row61_col0\" class=\"data row61 col0\" >India</td>\n",
       "      <td id=\"T_0369b_row61_col1\" class=\"data row61 col1\" >730</td>\n",
       "    </tr>\n",
       "    <tr>\n",
       "      <th id=\"T_0369b_level0_row62\" class=\"row_heading level0 row62\" >62</th>\n",
       "      <td id=\"T_0369b_row62_col0\" class=\"data row62 col0\" >Indonesia</td>\n",
       "      <td id=\"T_0369b_row62_col1\" class=\"data row62 col1\" >480</td>\n",
       "    </tr>\n",
       "    <tr>\n",
       "      <th id=\"T_0369b_level0_row63\" class=\"row_heading level0 row63\" >63</th>\n",
       "      <td id=\"T_0369b_row63_col0\" class=\"data row63 col0\" >Iran</td>\n",
       "      <td id=\"T_0369b_row63_col1\" class=\"data row63 col1\" >6</td>\n",
       "    </tr>\n",
       "    <tr>\n",
       "      <th id=\"T_0369b_level0_row64\" class=\"row_heading level0 row64\" >64</th>\n",
       "      <td id=\"T_0369b_row64_col0\" class=\"data row64 col0\" >Iraq</td>\n",
       "      <td id=\"T_0369b_row64_col1\" class=\"data row64 col1\" >6</td>\n",
       "    </tr>\n",
       "    <tr>\n",
       "      <th id=\"T_0369b_level0_row65\" class=\"row_heading level0 row65\" >65</th>\n",
       "      <td id=\"T_0369b_row65_col0\" class=\"data row65 col0\" >Ireland</td>\n",
       "      <td id=\"T_0369b_row65_col1\" class=\"data row65 col1\" >305</td>\n",
       "    </tr>\n",
       "    <tr>\n",
       "      <th id=\"T_0369b_level0_row66\" class=\"row_heading level0 row66\" >66</th>\n",
       "      <td id=\"T_0369b_row66_col0\" class=\"data row66 col0\" >Israel</td>\n",
       "      <td id=\"T_0369b_row66_col1\" class=\"data row66 col1\" >468</td>\n",
       "    </tr>\n",
       "    <tr>\n",
       "      <th id=\"T_0369b_level0_row67\" class=\"row_heading level0 row67\" >67</th>\n",
       "      <td id=\"T_0369b_row67_col0\" class=\"data row67 col0\" >Italy</td>\n",
       "      <td id=\"T_0369b_row67_col1\" class=\"data row67 col1\" >3125</td>\n",
       "    </tr>\n",
       "    <tr>\n",
       "      <th id=\"T_0369b_level0_row68\" class=\"row_heading level0 row68\" >68</th>\n",
       "      <td id=\"T_0369b_row68_col0\" class=\"data row68 col0\" >Jamaica</td>\n",
       "      <td id=\"T_0369b_row68_col1\" class=\"data row68 col1\" >6</td>\n",
       "    </tr>\n",
       "    <tr>\n",
       "      <th id=\"T_0369b_level0_row69\" class=\"row_heading level0 row69\" >69</th>\n",
       "      <td id=\"T_0369b_row69_col0\" class=\"data row69 col0\" >Japan</td>\n",
       "      <td id=\"T_0369b_row69_col1\" class=\"data row69 col1\" >2166</td>\n",
       "    </tr>\n",
       "    <tr>\n",
       "      <th id=\"T_0369b_level0_row70\" class=\"row_heading level0 row70\" >70</th>\n",
       "      <td id=\"T_0369b_row70_col0\" class=\"data row70 col0\" >Jordan</td>\n",
       "      <td id=\"T_0369b_row70_col1\" class=\"data row70 col1\" >24</td>\n",
       "    </tr>\n",
       "    <tr>\n",
       "      <th id=\"T_0369b_level0_row71\" class=\"row_heading level0 row71\" >71</th>\n",
       "      <td id=\"T_0369b_row71_col0\" class=\"data row71 col0\" >Kazakhstan</td>\n",
       "      <td id=\"T_0369b_row71_col1\" class=\"data row71 col1\" >223</td>\n",
       "    </tr>\n",
       "    <tr>\n",
       "      <th id=\"T_0369b_level0_row72\" class=\"row_heading level0 row72\" >72</th>\n",
       "      <td id=\"T_0369b_row72_col0\" class=\"data row72 col0\" >Kenya</td>\n",
       "      <td id=\"T_0369b_row72_col1\" class=\"data row72 col1\" >25</td>\n",
       "    </tr>\n",
       "    <tr>\n",
       "      <th id=\"T_0369b_level0_row73\" class=\"row_heading level0 row73\" >73</th>\n",
       "      <td id=\"T_0369b_row73_col0\" class=\"data row73 col0\" >Kuwait</td>\n",
       "      <td id=\"T_0369b_row73_col1\" class=\"data row73 col1\" >46</td>\n",
       "    </tr>\n",
       "    <tr>\n",
       "      <th id=\"T_0369b_level0_row74\" class=\"row_heading level0 row74\" >74</th>\n",
       "      <td id=\"T_0369b_row74_col0\" class=\"data row74 col0\" >Kyrgyzstan</td>\n",
       "      <td id=\"T_0369b_row74_col1\" class=\"data row74 col1\" >18</td>\n",
       "    </tr>\n",
       "    <tr>\n",
       "      <th id=\"T_0369b_level0_row75\" class=\"row_heading level0 row75\" >75</th>\n",
       "      <td id=\"T_0369b_row75_col0\" class=\"data row75 col0\" >Lao People's Democratic Republic</td>\n",
       "      <td id=\"T_0369b_row75_col1\" class=\"data row75 col1\" >2</td>\n",
       "    </tr>\n",
       "    <tr>\n",
       "      <th id=\"T_0369b_level0_row76\" class=\"row_heading level0 row76\" >76</th>\n",
       "      <td id=\"T_0369b_row76_col0\" class=\"data row76 col0\" >Latvia</td>\n",
       "      <td id=\"T_0369b_row76_col1\" class=\"data row76 col1\" >117</td>\n",
       "    </tr>\n",
       "    <tr>\n",
       "      <th id=\"T_0369b_level0_row77\" class=\"row_heading level0 row77\" >77</th>\n",
       "      <td id=\"T_0369b_row77_col0\" class=\"data row77 col0\" >Lebanon</td>\n",
       "      <td id=\"T_0369b_row77_col1\" class=\"data row77 col1\" >23</td>\n",
       "    </tr>\n",
       "    <tr>\n",
       "      <th id=\"T_0369b_level0_row78\" class=\"row_heading level0 row78\" >78</th>\n",
       "      <td id=\"T_0369b_row78_col0\" class=\"data row78 col0\" >Libya</td>\n",
       "      <td id=\"T_0369b_row78_col1\" class=\"data row78 col1\" >1</td>\n",
       "    </tr>\n",
       "    <tr>\n",
       "      <th id=\"T_0369b_level0_row79\" class=\"row_heading level0 row79\" >79</th>\n",
       "      <td id=\"T_0369b_row79_col0\" class=\"data row79 col0\" >Lithuania</td>\n",
       "      <td id=\"T_0369b_row79_col1\" class=\"data row79 col1\" >119</td>\n",
       "    </tr>\n",
       "    <tr>\n",
       "      <th id=\"T_0369b_level0_row80\" class=\"row_heading level0 row80\" >80</th>\n",
       "      <td id=\"T_0369b_row80_col0\" class=\"data row80 col0\" >Luxembourg</td>\n",
       "      <td id=\"T_0369b_row80_col1\" class=\"data row80 col1\" >79</td>\n",
       "    </tr>\n",
       "    <tr>\n",
       "      <th id=\"T_0369b_level0_row81\" class=\"row_heading level0 row81\" >81</th>\n",
       "      <td id=\"T_0369b_row81_col0\" class=\"data row81 col0\" >Macao</td>\n",
       "      <td id=\"T_0369b_row81_col1\" class=\"data row81 col1\" >13</td>\n",
       "    </tr>\n",
       "    <tr>\n",
       "      <th id=\"T_0369b_level0_row82\" class=\"row_heading level0 row82\" >82</th>\n",
       "      <td id=\"T_0369b_row82_col0\" class=\"data row82 col0\" >Madagascar</td>\n",
       "      <td id=\"T_0369b_row82_col1\" class=\"data row82 col1\" >2</td>\n",
       "    </tr>\n",
       "    <tr>\n",
       "      <th id=\"T_0369b_level0_row83\" class=\"row_heading level0 row83\" >83</th>\n",
       "      <td id=\"T_0369b_row83_col0\" class=\"data row83 col0\" >Malawi</td>\n",
       "      <td id=\"T_0369b_row83_col1\" class=\"data row83 col1\" >1</td>\n",
       "    </tr>\n",
       "    <tr>\n",
       "      <th id=\"T_0369b_level0_row84\" class=\"row_heading level0 row84\" >84</th>\n",
       "      <td id=\"T_0369b_row84_col0\" class=\"data row84 col0\" >Malaysia</td>\n",
       "      <td id=\"T_0369b_row84_col1\" class=\"data row84 col1\" >302</td>\n",
       "    </tr>\n",
       "    <tr>\n",
       "      <th id=\"T_0369b_level0_row85\" class=\"row_heading level0 row85\" >85</th>\n",
       "      <td id=\"T_0369b_row85_col0\" class=\"data row85 col0\" >Maldives</td>\n",
       "      <td id=\"T_0369b_row85_col1\" class=\"data row85 col1\" >9</td>\n",
       "    </tr>\n",
       "    <tr>\n",
       "      <th id=\"T_0369b_level0_row86\" class=\"row_heading level0 row86\" >86</th>\n",
       "      <td id=\"T_0369b_row86_col0\" class=\"data row86 col0\" >Mali</td>\n",
       "      <td id=\"T_0369b_row86_col1\" class=\"data row86 col1\" >1</td>\n",
       "    </tr>\n",
       "    <tr>\n",
       "      <th id=\"T_0369b_level0_row87\" class=\"row_heading level0 row87\" >87</th>\n",
       "      <td id=\"T_0369b_row87_col0\" class=\"data row87 col0\" >Malta</td>\n",
       "      <td id=\"T_0369b_row87_col1\" class=\"data row87 col1\" >44</td>\n",
       "    </tr>\n",
       "    <tr>\n",
       "      <th id=\"T_0369b_level0_row88\" class=\"row_heading level0 row88\" >88</th>\n",
       "      <td id=\"T_0369b_row88_col0\" class=\"data row88 col0\" >Martinique</td>\n",
       "      <td id=\"T_0369b_row88_col1\" class=\"data row88 col1\" >1</td>\n",
       "    </tr>\n",
       "    <tr>\n",
       "      <th id=\"T_0369b_level0_row89\" class=\"row_heading level0 row89\" >89</th>\n",
       "      <td id=\"T_0369b_row89_col0\" class=\"data row89 col0\" >Mauritius</td>\n",
       "      <td id=\"T_0369b_row89_col1\" class=\"data row89 col1\" >8</td>\n",
       "    </tr>\n",
       "    <tr>\n",
       "      <th id=\"T_0369b_level0_row90\" class=\"row_heading level0 row90\" >90</th>\n",
       "      <td id=\"T_0369b_row90_col0\" class=\"data row90 col0\" >Mexico</td>\n",
       "      <td id=\"T_0369b_row90_col1\" class=\"data row90 col1\" >911</td>\n",
       "    </tr>\n",
       "    <tr>\n",
       "      <th id=\"T_0369b_level0_row91\" class=\"row_heading level0 row91\" >91</th>\n",
       "      <td id=\"T_0369b_row91_col0\" class=\"data row91 col0\" >Moldova (Republic of)</td>\n",
       "      <td id=\"T_0369b_row91_col1\" class=\"data row91 col1\" >32</td>\n",
       "    </tr>\n",
       "    <tr>\n",
       "      <th id=\"T_0369b_level0_row92\" class=\"row_heading level0 row92\" >92</th>\n",
       "      <td id=\"T_0369b_row92_col0\" class=\"data row92 col0\" >Monaco</td>\n",
       "      <td id=\"T_0369b_row92_col1\" class=\"data row92 col1\" >1</td>\n",
       "    </tr>\n",
       "    <tr>\n",
       "      <th id=\"T_0369b_level0_row93\" class=\"row_heading level0 row93\" >93</th>\n",
       "      <td id=\"T_0369b_row93_col0\" class=\"data row93 col0\" >Mongolia</td>\n",
       "      <td id=\"T_0369b_row93_col1\" class=\"data row93 col1\" >19</td>\n",
       "    </tr>\n",
       "    <tr>\n",
       "      <th id=\"T_0369b_level0_row94\" class=\"row_heading level0 row94\" >94</th>\n",
       "      <td id=\"T_0369b_row94_col0\" class=\"data row94 col0\" >Montenegro</td>\n",
       "      <td id=\"T_0369b_row94_col1\" class=\"data row94 col1\" >5</td>\n",
       "    </tr>\n",
       "    <tr>\n",
       "      <th id=\"T_0369b_level0_row95\" class=\"row_heading level0 row95\" >95</th>\n",
       "      <td id=\"T_0369b_row95_col0\" class=\"data row95 col0\" >Morocco</td>\n",
       "      <td id=\"T_0369b_row95_col1\" class=\"data row95 col1\" >20</td>\n",
       "    </tr>\n",
       "    <tr>\n",
       "      <th id=\"T_0369b_level0_row96\" class=\"row_heading level0 row96\" >96</th>\n",
       "      <td id=\"T_0369b_row96_col0\" class=\"data row96 col0\" >Mozambique</td>\n",
       "      <td id=\"T_0369b_row96_col1\" class=\"data row96 col1\" >4</td>\n",
       "    </tr>\n",
       "    <tr>\n",
       "      <th id=\"T_0369b_level0_row97\" class=\"row_heading level0 row97\" >97</th>\n",
       "      <td id=\"T_0369b_row97_col0\" class=\"data row97 col0\" >Myanmar</td>\n",
       "      <td id=\"T_0369b_row97_col1\" class=\"data row97 col1\" >2</td>\n",
       "    </tr>\n",
       "    <tr>\n",
       "      <th id=\"T_0369b_level0_row98\" class=\"row_heading level0 row98\" >98</th>\n",
       "      <td id=\"T_0369b_row98_col0\" class=\"data row98 col0\" >Namibia</td>\n",
       "      <td id=\"T_0369b_row98_col1\" class=\"data row98 col1\" >5</td>\n",
       "    </tr>\n",
       "    <tr>\n",
       "      <th id=\"T_0369b_level0_row99\" class=\"row_heading level0 row99\" >99</th>\n",
       "      <td id=\"T_0369b_row99_col0\" class=\"data row99 col0\" >Nepal</td>\n",
       "      <td id=\"T_0369b_row99_col1\" class=\"data row99 col1\" >5</td>\n",
       "    </tr>\n",
       "    <tr>\n",
       "      <th id=\"T_0369b_level0_row100\" class=\"row_heading level0 row100\" >100</th>\n",
       "      <td id=\"T_0369b_row100_col0\" class=\"data row100 col0\" >Netherlands</td>\n",
       "      <td id=\"T_0369b_row100_col1\" class=\"data row100 col1\" >1607</td>\n",
       "    </tr>\n",
       "    <tr>\n",
       "      <th id=\"T_0369b_level0_row101\" class=\"row_heading level0 row101\" >101</th>\n",
       "      <td id=\"T_0369b_row101_col0\" class=\"data row101 col0\" >New Zealand</td>\n",
       "      <td id=\"T_0369b_row101_col1\" class=\"data row101 col1\" >522</td>\n",
       "    </tr>\n",
       "    <tr>\n",
       "      <th id=\"T_0369b_level0_row102\" class=\"row_heading level0 row102\" >102</th>\n",
       "      <td id=\"T_0369b_row102_col0\" class=\"data row102 col0\" >Nicaragua</td>\n",
       "      <td id=\"T_0369b_row102_col1\" class=\"data row102 col1\" >4</td>\n",
       "    </tr>\n",
       "    <tr>\n",
       "      <th id=\"T_0369b_level0_row103\" class=\"row_heading level0 row103\" >103</th>\n",
       "      <td id=\"T_0369b_row103_col0\" class=\"data row103 col0\" >Niger</td>\n",
       "      <td id=\"T_0369b_row103_col1\" class=\"data row103 col1\" >1</td>\n",
       "    </tr>\n",
       "    <tr>\n",
       "      <th id=\"T_0369b_level0_row104\" class=\"row_heading level0 row104\" >104</th>\n",
       "      <td id=\"T_0369b_row104_col0\" class=\"data row104 col0\" >Nigeria</td>\n",
       "      <td id=\"T_0369b_row104_col1\" class=\"data row104 col1\" >46</td>\n",
       "    </tr>\n",
       "    <tr>\n",
       "      <th id=\"T_0369b_level0_row105\" class=\"row_heading level0 row105\" >105</th>\n",
       "      <td id=\"T_0369b_row105_col0\" class=\"data row105 col0\" >North Macedonia</td>\n",
       "      <td id=\"T_0369b_row105_col1\" class=\"data row105 col1\" >16</td>\n",
       "    </tr>\n",
       "    <tr>\n",
       "      <th id=\"T_0369b_level0_row106\" class=\"row_heading level0 row106\" >106</th>\n",
       "      <td id=\"T_0369b_row106_col0\" class=\"data row106 col0\" >Norway</td>\n",
       "      <td id=\"T_0369b_row106_col1\" class=\"data row106 col1\" >916</td>\n",
       "    </tr>\n",
       "    <tr>\n",
       "      <th id=\"T_0369b_level0_row107\" class=\"row_heading level0 row107\" >107</th>\n",
       "      <td id=\"T_0369b_row107_col0\" class=\"data row107 col0\" >Oman</td>\n",
       "      <td id=\"T_0369b_row107_col1\" class=\"data row107 col1\" >29</td>\n",
       "    </tr>\n",
       "    <tr>\n",
       "      <th id=\"T_0369b_level0_row108\" class=\"row_heading level0 row108\" >108</th>\n",
       "      <td id=\"T_0369b_row108_col0\" class=\"data row108 col0\" >Pakistan</td>\n",
       "      <td id=\"T_0369b_row108_col1\" class=\"data row108 col1\" >65</td>\n",
       "    </tr>\n",
       "    <tr>\n",
       "      <th id=\"T_0369b_level0_row109\" class=\"row_heading level0 row109\" >109</th>\n",
       "      <td id=\"T_0369b_row109_col0\" class=\"data row109 col0\" >Panama</td>\n",
       "      <td id=\"T_0369b_row109_col1\" class=\"data row109 col1\" >30</td>\n",
       "    </tr>\n",
       "    <tr>\n",
       "      <th id=\"T_0369b_level0_row110\" class=\"row_heading level0 row110\" >110</th>\n",
       "      <td id=\"T_0369b_row110_col0\" class=\"data row110 col0\" >Papua New Guinea</td>\n",
       "      <td id=\"T_0369b_row110_col1\" class=\"data row110 col1\" >4</td>\n",
       "    </tr>\n",
       "    <tr>\n",
       "      <th id=\"T_0369b_level0_row111\" class=\"row_heading level0 row111\" >111</th>\n",
       "      <td id=\"T_0369b_row111_col0\" class=\"data row111 col0\" >Paraguay</td>\n",
       "      <td id=\"T_0369b_row111_col1\" class=\"data row111 col1\" >17</td>\n",
       "    </tr>\n",
       "    <tr>\n",
       "      <th id=\"T_0369b_level0_row112\" class=\"row_heading level0 row112\" >112</th>\n",
       "      <td id=\"T_0369b_row112_col0\" class=\"data row112 col0\" >Peru</td>\n",
       "      <td id=\"T_0369b_row112_col1\" class=\"data row112 col1\" >146</td>\n",
       "    </tr>\n",
       "    <tr>\n",
       "      <th id=\"T_0369b_level0_row113\" class=\"row_heading level0 row113\" >113</th>\n",
       "      <td id=\"T_0369b_row113_col0\" class=\"data row113 col0\" >Philippines</td>\n",
       "      <td id=\"T_0369b_row113_col1\" class=\"data row113 col1\" >233</td>\n",
       "    </tr>\n",
       "    <tr>\n",
       "      <th id=\"T_0369b_level0_row114\" class=\"row_heading level0 row114\" >114</th>\n",
       "      <td id=\"T_0369b_row114_col0\" class=\"data row114 col0\" >Poland</td>\n",
       "      <td id=\"T_0369b_row114_col1\" class=\"data row114 col1\" >1080</td>\n",
       "    </tr>\n",
       "    <tr>\n",
       "      <th id=\"T_0369b_level0_row115\" class=\"row_heading level0 row115\" >115</th>\n",
       "      <td id=\"T_0369b_row115_col0\" class=\"data row115 col0\" >Portugal</td>\n",
       "      <td id=\"T_0369b_row115_col1\" class=\"data row115 col1\" >278</td>\n",
       "    </tr>\n",
       "    <tr>\n",
       "      <th id=\"T_0369b_level0_row116\" class=\"row_heading level0 row116\" >116</th>\n",
       "      <td id=\"T_0369b_row116_col0\" class=\"data row116 col0\" >Puerto Rico</td>\n",
       "      <td id=\"T_0369b_row116_col1\" class=\"data row116 col1\" >6</td>\n",
       "    </tr>\n",
       "    <tr>\n",
       "      <th id=\"T_0369b_level0_row117\" class=\"row_heading level0 row117\" >117</th>\n",
       "      <td id=\"T_0369b_row117_col0\" class=\"data row117 col0\" >Qatar</td>\n",
       "      <td id=\"T_0369b_row117_col1\" class=\"data row117 col1\" >33</td>\n",
       "    </tr>\n",
       "    <tr>\n",
       "      <th id=\"T_0369b_level0_row118\" class=\"row_heading level0 row118\" >118</th>\n",
       "      <td id=\"T_0369b_row118_col0\" class=\"data row118 col0\" >Romania</td>\n",
       "      <td id=\"T_0369b_row118_col1\" class=\"data row118 col1\" >377</td>\n",
       "    </tr>\n",
       "    <tr>\n",
       "      <th id=\"T_0369b_level0_row119\" class=\"row_heading level0 row119\" >119</th>\n",
       "      <td id=\"T_0369b_row119_col0\" class=\"data row119 col0\" >Russia</td>\n",
       "      <td id=\"T_0369b_row119_col1\" class=\"data row119 col1\" >3088</td>\n",
       "    </tr>\n",
       "    <tr>\n",
       "      <th id=\"T_0369b_level0_row120\" class=\"row_heading level0 row120\" >120</th>\n",
       "      <td id=\"T_0369b_row120_col0\" class=\"data row120 col0\" >Rwanda</td>\n",
       "      <td id=\"T_0369b_row120_col1\" class=\"data row120 col1\" >2</td>\n",
       "    </tr>\n",
       "    <tr>\n",
       "      <th id=\"T_0369b_level0_row121\" class=\"row_heading level0 row121\" >121</th>\n",
       "      <td id=\"T_0369b_row121_col0\" class=\"data row121 col0\" >Saint Kitts and Nevis</td>\n",
       "      <td id=\"T_0369b_row121_col1\" class=\"data row121 col1\" >1</td>\n",
       "    </tr>\n",
       "    <tr>\n",
       "      <th id=\"T_0369b_level0_row122\" class=\"row_heading level0 row122\" >122</th>\n",
       "      <td id=\"T_0369b_row122_col0\" class=\"data row122 col0\" >Saint Lucia</td>\n",
       "      <td id=\"T_0369b_row122_col1\" class=\"data row122 col1\" >1</td>\n",
       "    </tr>\n",
       "    <tr>\n",
       "      <th id=\"T_0369b_level0_row123\" class=\"row_heading level0 row123\" >123</th>\n",
       "      <td id=\"T_0369b_row123_col0\" class=\"data row123 col0\" >Samoa</td>\n",
       "      <td id=\"T_0369b_row123_col1\" class=\"data row123 col1\" >1</td>\n",
       "    </tr>\n",
       "    <tr>\n",
       "      <th id=\"T_0369b_level0_row124\" class=\"row_heading level0 row124\" >124</th>\n",
       "      <td id=\"T_0369b_row124_col0\" class=\"data row124 col0\" >Saudi Arabia</td>\n",
       "      <td id=\"T_0369b_row124_col1\" class=\"data row124 col1\" >181</td>\n",
       "    </tr>\n",
       "    <tr>\n",
       "      <th id=\"T_0369b_level0_row125\" class=\"row_heading level0 row125\" >125</th>\n",
       "      <td id=\"T_0369b_row125_col0\" class=\"data row125 col0\" >Senegal</td>\n",
       "      <td id=\"T_0369b_row125_col1\" class=\"data row125 col1\" >4</td>\n",
       "    </tr>\n",
       "    <tr>\n",
       "      <th id=\"T_0369b_level0_row126\" class=\"row_heading level0 row126\" >126</th>\n",
       "      <td id=\"T_0369b_row126_col0\" class=\"data row126 col0\" >Serbia</td>\n",
       "      <td id=\"T_0369b_row126_col1\" class=\"data row126 col1\" >74</td>\n",
       "    </tr>\n",
       "    <tr>\n",
       "      <th id=\"T_0369b_level0_row127\" class=\"row_heading level0 row127\" >127</th>\n",
       "      <td id=\"T_0369b_row127_col0\" class=\"data row127 col0\" >Seychelles</td>\n",
       "      <td id=\"T_0369b_row127_col1\" class=\"data row127 col1\" >1</td>\n",
       "    </tr>\n",
       "    <tr>\n",
       "      <th id=\"T_0369b_level0_row128\" class=\"row_heading level0 row128\" >128</th>\n",
       "      <td id=\"T_0369b_row128_col0\" class=\"data row128 col0\" >Sierra Leone</td>\n",
       "      <td id=\"T_0369b_row128_col1\" class=\"data row128 col1\" >2</td>\n",
       "    </tr>\n",
       "    <tr>\n",
       "      <th id=\"T_0369b_level0_row129\" class=\"row_heading level0 row129\" >129</th>\n",
       "      <td id=\"T_0369b_row129_col0\" class=\"data row129 col0\" >Singapore</td>\n",
       "      <td id=\"T_0369b_row129_col1\" class=\"data row129 col1\" >239</td>\n",
       "    </tr>\n",
       "    <tr>\n",
       "      <th id=\"T_0369b_level0_row130\" class=\"row_heading level0 row130\" >130</th>\n",
       "      <td id=\"T_0369b_row130_col0\" class=\"data row130 col0\" >Slovakia</td>\n",
       "      <td id=\"T_0369b_row130_col1\" class=\"data row130 col1\" >257</td>\n",
       "    </tr>\n",
       "    <tr>\n",
       "      <th id=\"T_0369b_level0_row131\" class=\"row_heading level0 row131\" >131</th>\n",
       "      <td id=\"T_0369b_row131_col0\" class=\"data row131 col0\" >Slovenia</td>\n",
       "      <td id=\"T_0369b_row131_col1\" class=\"data row131 col1\" >112</td>\n",
       "    </tr>\n",
       "    <tr>\n",
       "      <th id=\"T_0369b_level0_row132\" class=\"row_heading level0 row132\" >132</th>\n",
       "      <td id=\"T_0369b_row132_col0\" class=\"data row132 col0\" >Somalia</td>\n",
       "      <td id=\"T_0369b_row132_col1\" class=\"data row132 col1\" >1</td>\n",
       "    </tr>\n",
       "    <tr>\n",
       "      <th id=\"T_0369b_level0_row133\" class=\"row_heading level0 row133\" >133</th>\n",
       "      <td id=\"T_0369b_row133_col0\" class=\"data row133 col0\" >South Africa</td>\n",
       "      <td id=\"T_0369b_row133_col1\" class=\"data row133 col1\" >403</td>\n",
       "    </tr>\n",
       "    <tr>\n",
       "      <th id=\"T_0369b_level0_row134\" class=\"row_heading level0 row134\" >134</th>\n",
       "      <td id=\"T_0369b_row134_col0\" class=\"data row134 col0\" >South Korea</td>\n",
       "      <td id=\"T_0369b_row134_col1\" class=\"data row134 col1\" >689</td>\n",
       "    </tr>\n",
       "    <tr>\n",
       "      <th id=\"T_0369b_level0_row135\" class=\"row_heading level0 row135\" >135</th>\n",
       "      <td id=\"T_0369b_row135_col0\" class=\"data row135 col0\" >Spain</td>\n",
       "      <td id=\"T_0369b_row135_col1\" class=\"data row135 col1\" >1531</td>\n",
       "    </tr>\n",
       "    <tr>\n",
       "      <th id=\"T_0369b_level0_row136\" class=\"row_heading level0 row136\" >136</th>\n",
       "      <td id=\"T_0369b_row136_col0\" class=\"data row136 col0\" >Sri Lanka</td>\n",
       "      <td id=\"T_0369b_row136_col1\" class=\"data row136 col1\" >23</td>\n",
       "    </tr>\n",
       "    <tr>\n",
       "      <th id=\"T_0369b_level0_row137\" class=\"row_heading level0 row137\" >137</th>\n",
       "      <td id=\"T_0369b_row137_col0\" class=\"data row137 col0\" >Sweden</td>\n",
       "      <td id=\"T_0369b_row137_col1\" class=\"data row137 col1\" >1259</td>\n",
       "    </tr>\n",
       "    <tr>\n",
       "      <th id=\"T_0369b_level0_row138\" class=\"row_heading level0 row138\" >138</th>\n",
       "      <td id=\"T_0369b_row138_col0\" class=\"data row138 col0\" >Switzerland</td>\n",
       "      <td id=\"T_0369b_row138_col1\" class=\"data row138 col1\" >1653</td>\n",
       "    </tr>\n",
       "    <tr>\n",
       "      <th id=\"T_0369b_level0_row139\" class=\"row_heading level0 row139\" >139</th>\n",
       "      <td id=\"T_0369b_row139_col0\" class=\"data row139 col0\" >Syria</td>\n",
       "      <td id=\"T_0369b_row139_col1\" class=\"data row139 col1\" >3</td>\n",
       "    </tr>\n",
       "    <tr>\n",
       "      <th id=\"T_0369b_level0_row140\" class=\"row_heading level0 row140\" >140</th>\n",
       "      <td id=\"T_0369b_row140_col0\" class=\"data row140 col0\" >Taiwan</td>\n",
       "      <td id=\"T_0369b_row140_col1\" class=\"data row140 col1\" >894</td>\n",
       "    </tr>\n",
       "    <tr>\n",
       "      <th id=\"T_0369b_level0_row141\" class=\"row_heading level0 row141\" >141</th>\n",
       "      <td id=\"T_0369b_row141_col0\" class=\"data row141 col0\" >Tajikistan</td>\n",
       "      <td id=\"T_0369b_row141_col1\" class=\"data row141 col1\" >6</td>\n",
       "    </tr>\n",
       "    <tr>\n",
       "      <th id=\"T_0369b_level0_row142\" class=\"row_heading level0 row142\" >142</th>\n",
       "      <td id=\"T_0369b_row142_col0\" class=\"data row142 col0\" >Tanzania, United Republic of</td>\n",
       "      <td id=\"T_0369b_row142_col1\" class=\"data row142 col1\" >11</td>\n",
       "    </tr>\n",
       "    <tr>\n",
       "      <th id=\"T_0369b_level0_row143\" class=\"row_heading level0 row143\" >143</th>\n",
       "      <td id=\"T_0369b_row143_col0\" class=\"data row143 col0\" >Thailand</td>\n",
       "      <td id=\"T_0369b_row143_col1\" class=\"data row143 col1\" >386</td>\n",
       "    </tr>\n",
       "    <tr>\n",
       "      <th id=\"T_0369b_level0_row144\" class=\"row_heading level0 row144\" >144</th>\n",
       "      <td id=\"T_0369b_row144_col0\" class=\"data row144 col0\" >Trinidad and Tobago</td>\n",
       "      <td id=\"T_0369b_row144_col1\" class=\"data row144 col1\" >8</td>\n",
       "    </tr>\n",
       "    <tr>\n",
       "      <th id=\"T_0369b_level0_row145\" class=\"row_heading level0 row145\" >145</th>\n",
       "      <td id=\"T_0369b_row145_col0\" class=\"data row145 col0\" >Tunisia</td>\n",
       "      <td id=\"T_0369b_row145_col1\" class=\"data row145 col1\" >2</td>\n",
       "    </tr>\n",
       "    <tr>\n",
       "      <th id=\"T_0369b_level0_row146\" class=\"row_heading level0 row146\" >146</th>\n",
       "      <td id=\"T_0369b_row146_col0\" class=\"data row146 col0\" >Turkey</td>\n",
       "      <td id=\"T_0369b_row146_col1\" class=\"data row146 col1\" >498</td>\n",
       "    </tr>\n",
       "    <tr>\n",
       "      <th id=\"T_0369b_level0_row147\" class=\"row_heading level0 row147\" >147</th>\n",
       "      <td id=\"T_0369b_row147_col0\" class=\"data row147 col0\" >Uganda</td>\n",
       "      <td id=\"T_0369b_row147_col1\" class=\"data row147 col1\" >2</td>\n",
       "    </tr>\n",
       "    <tr>\n",
       "      <th id=\"T_0369b_level0_row148\" class=\"row_heading level0 row148\" >148</th>\n",
       "      <td id=\"T_0369b_row148_col0\" class=\"data row148 col0\" >Ukraine</td>\n",
       "      <td id=\"T_0369b_row148_col1\" class=\"data row148 col1\" >304</td>\n",
       "    </tr>\n",
       "    <tr>\n",
       "      <th id=\"T_0369b_level0_row149\" class=\"row_heading level0 row149\" >149</th>\n",
       "      <td id=\"T_0369b_row149_col0\" class=\"data row149 col0\" >United Arab Emirates</td>\n",
       "      <td id=\"T_0369b_row149_col1\" class=\"data row149 col1\" >247</td>\n",
       "    </tr>\n",
       "    <tr>\n",
       "      <th id=\"T_0369b_level0_row150\" class=\"row_heading level0 row150\" >150</th>\n",
       "      <td id=\"T_0369b_row150_col0\" class=\"data row150 col0\" >United Kingdom</td>\n",
       "      <td id=\"T_0369b_row150_col1\" class=\"data row150 col1\" >8797</td>\n",
       "    </tr>\n",
       "    <tr>\n",
       "      <th id=\"T_0369b_level0_row151\" class=\"row_heading level0 row151\" >151</th>\n",
       "      <td id=\"T_0369b_row151_col0\" class=\"data row151 col0\" >United States</td>\n",
       "      <td id=\"T_0369b_row151_col1\" class=\"data row151 col1\" >40223</td>\n",
       "    </tr>\n",
       "    <tr>\n",
       "      <th id=\"T_0369b_level0_row152\" class=\"row_heading level0 row152\" >152</th>\n",
       "      <td id=\"T_0369b_row152_col0\" class=\"data row152 col0\" >Unknown</td>\n",
       "      <td id=\"T_0369b_row152_col1\" class=\"data row152 col1\" >29107</td>\n",
       "    </tr>\n",
       "    <tr>\n",
       "      <th id=\"T_0369b_level0_row153\" class=\"row_heading level0 row153\" >153</th>\n",
       "      <td id=\"T_0369b_row153_col0\" class=\"data row153 col0\" >Uruguay</td>\n",
       "      <td id=\"T_0369b_row153_col1\" class=\"data row153 col1\" >40</td>\n",
       "    </tr>\n",
       "    <tr>\n",
       "      <th id=\"T_0369b_level0_row154\" class=\"row_heading level0 row154\" >154</th>\n",
       "      <td id=\"T_0369b_row154_col0\" class=\"data row154 col0\" >Uzbekistan</td>\n",
       "      <td id=\"T_0369b_row154_col1\" class=\"data row154 col1\" >56</td>\n",
       "    </tr>\n",
       "    <tr>\n",
       "      <th id=\"T_0369b_level0_row155\" class=\"row_heading level0 row155\" >155</th>\n",
       "      <td id=\"T_0369b_row155_col0\" class=\"data row155 col0\" >Venezuela</td>\n",
       "      <td id=\"T_0369b_row155_col1\" class=\"data row155 col1\" >18</td>\n",
       "    </tr>\n",
       "    <tr>\n",
       "      <th id=\"T_0369b_level0_row156\" class=\"row_heading level0 row156\" >156</th>\n",
       "      <td id=\"T_0369b_row156_col0\" class=\"data row156 col0\" >Vietnam</td>\n",
       "      <td id=\"T_0369b_row156_col1\" class=\"data row156 col1\" >524</td>\n",
       "    </tr>\n",
       "    <tr>\n",
       "      <th id=\"T_0369b_level0_row157\" class=\"row_heading level0 row157\" >157</th>\n",
       "      <td id=\"T_0369b_row157_col0\" class=\"data row157 col0\" >Zambia</td>\n",
       "      <td id=\"T_0369b_row157_col1\" class=\"data row157 col1\" >3</td>\n",
       "    </tr>\n",
       "    <tr>\n",
       "      <th id=\"T_0369b_level0_row158\" class=\"row_heading level0 row158\" >158</th>\n",
       "      <td id=\"T_0369b_row158_col0\" class=\"data row158 col0\" >Zimbabwe</td>\n",
       "      <td id=\"T_0369b_row158_col1\" class=\"data row158 col1\" >4</td>\n",
       "    </tr>\n",
       "  </tbody>\n",
       "</table>\n"
      ],
      "text/plain": [
       "<pandas.io.formats.style.Styler at 0x141f31c50>"
      ]
     },
     "metadata": {},
     "output_type": "display_data"
    }
   ],
   "source": [
    "countries = df.groupby('country')['oid'].agg('count').reset_index().rename(columns={'oid': 'count'})\n",
    "countries = countries.style.set_properties(**{'text-align': 'left'})\n",
    "display(countries)"
   ]
  },
  {
   "cell_type": "code",
   "execution_count": 788,
   "id": "2c1fc7b3-35e6-4548-b00a-3065647248bf",
   "metadata": {
    "tags": []
   },
   "outputs": [],
   "source": [
    "pd.set_option('display.max_rows', 10)"
   ]
  },
  {
   "cell_type": "code",
   "execution_count": 789,
   "id": "ed1f0652-9db8-437b-90bb-6cb20949bf43",
   "metadata": {
    "tags": []
   },
   "outputs": [
    {
     "data": {
      "text/plain": [
       "United States     40223\n",
       "Unknown           29107\n",
       "United Kingdom     8797\n",
       "Germany            8362\n",
       "France             4302\n",
       "                  ...  \n",
       "Niger                 1\n",
       "Somalia               1\n",
       "Eswatini              1\n",
       "Antarctica            1\n",
       "Seychelles            1\n",
       "Name: country, Length: 159, dtype: int64"
      ]
     },
     "execution_count": 789,
     "metadata": {},
     "output_type": "execute_result"
    }
   ],
   "source": [
    "df['country'].value_counts()"
   ]
  },
  {
   "cell_type": "markdown",
   "id": "1333d8f2-5a2f-4209-b152-2beb8294d2c3",
   "metadata": {},
   "source": [
    "## Stage 3: Retention analysis"
   ]
  },
  {
   "cell_type": "markdown",
   "id": "b99e7a97-6f98-4270-9f6b-d8bc7a699f97",
   "metadata": {},
   "source": [
    "## Define new columns\n",
    "In order to perform a retention analysis I need to introduce some new columns\n"
   ]
  },
  {
   "cell_type": "code",
   "execution_count": 790,
   "id": "58bea8e4-1c33-4456-b78b-ae169f3aa7d8",
   "metadata": {
    "tags": []
   },
   "outputs": [
    {
     "data": {
      "text/html": [
       "<div>\n",
       "<style scoped>\n",
       "    .dataframe tbody tr th:only-of-type {\n",
       "        vertical-align: middle;\n",
       "    }\n",
       "\n",
       "    .dataframe tbody tr th {\n",
       "        vertical-align: top;\n",
       "    }\n",
       "\n",
       "    .dataframe thead th {\n",
       "        text-align: right;\n",
       "    }\n",
       "</style>\n",
       "<table border=\"1\" class=\"dataframe\">\n",
       "  <thead>\n",
       "    <tr style=\"text-align: left;\">\n",
       "      <th></th>\n",
       "      <th>oid</th>\n",
       "      <th>provider</th>\n",
       "      <th>total_charges</th>\n",
       "      <th>signup_date</th>\n",
       "      <th>is_canceled</th>\n",
       "      <th>is_active</th>\n",
       "      <th>is_delinquent</th>\n",
       "      <th>conversion_date</th>\n",
       "      <th>cancellation_date</th>\n",
       "      <th>current_mrr</th>\n",
       "      <th>country</th>\n",
       "      <th>converted</th>\n",
       "    </tr>\n",
       "  </thead>\n",
       "  <tbody>\n",
       "    <tr>\n",
       "      <th>0</th>\n",
       "      <td>273624174263463</td>\n",
       "      <td>apple</td>\n",
       "      <td>10.94</td>\n",
       "      <td>2021-04-20</td>\n",
       "      <td>True</td>\n",
       "      <td>False</td>\n",
       "      <td>False</td>\n",
       "      <td>2021-04-20</td>\n",
       "      <td>2021-05-20 12:00:00</td>\n",
       "      <td>0.00</td>\n",
       "      <td>France</td>\n",
       "      <td>True</td>\n",
       "    </tr>\n",
       "    <tr>\n",
       "      <th>1</th>\n",
       "      <td>532534633483904</td>\n",
       "      <td>apple</td>\n",
       "      <td>10.92</td>\n",
       "      <td>2021-04-20</td>\n",
       "      <td>True</td>\n",
       "      <td>False</td>\n",
       "      <td>False</td>\n",
       "      <td>2021-04-20</td>\n",
       "      <td>2021-06-20 12:00:00</td>\n",
       "      <td>0.00</td>\n",
       "      <td>United Kingdom</td>\n",
       "      <td>True</td>\n",
       "    </tr>\n",
       "    <tr>\n",
       "      <th>2</th>\n",
       "      <td>623527156674739</td>\n",
       "      <td>apple</td>\n",
       "      <td>0.00</td>\n",
       "      <td>2021-04-20</td>\n",
       "      <td>False</td>\n",
       "      <td>False</td>\n",
       "      <td>False</td>\n",
       "      <td>NaT</td>\n",
       "      <td>NaT</td>\n",
       "      <td>0.00</td>\n",
       "      <td>Germany</td>\n",
       "      <td>False</td>\n",
       "    </tr>\n",
       "    <tr>\n",
       "      <th>3</th>\n",
       "      <td>441616357320658</td>\n",
       "      <td>apple</td>\n",
       "      <td>90.30</td>\n",
       "      <td>2021-04-20</td>\n",
       "      <td>False</td>\n",
       "      <td>True</td>\n",
       "      <td>False</td>\n",
       "      <td>2021-04-27</td>\n",
       "      <td>NaT</td>\n",
       "      <td>3.47</td>\n",
       "      <td>Switzerland</td>\n",
       "      <td>True</td>\n",
       "    </tr>\n",
       "    <tr>\n",
       "      <th>4</th>\n",
       "      <td>189644194376891</td>\n",
       "      <td>apple</td>\n",
       "      <td>79.98</td>\n",
       "      <td>2021-04-20</td>\n",
       "      <td>False</td>\n",
       "      <td>True</td>\n",
       "      <td>False</td>\n",
       "      <td>2021-05-04</td>\n",
       "      <td>NaT</td>\n",
       "      <td>3.33</td>\n",
       "      <td>United States</td>\n",
       "      <td>True</td>\n",
       "    </tr>\n",
       "  </tbody>\n",
       "</table>\n",
       "</div>"
      ],
      "text/plain": [
       "  oid              provider  total_charges signup_date  is_canceled  \\\n",
       "0  273624174263463  apple    10.94         2021-04-20    True         \n",
       "1  532534633483904  apple    10.92         2021-04-20    True         \n",
       "2  623527156674739  apple     0.00         2021-04-20   False         \n",
       "3  441616357320658  apple    90.30         2021-04-20   False         \n",
       "4  189644194376891  apple    79.98         2021-04-20   False         \n",
       "\n",
       "   is_active  is_delinquent conversion_date cancellation_date    current_mrr  \\\n",
       "0  False      False         2021-04-20      2021-05-20 12:00:00  0.00          \n",
       "1  False      False         2021-04-20      2021-06-20 12:00:00  0.00          \n",
       "2  False      False                NaT                      NaT  0.00          \n",
       "3   True      False         2021-04-27                      NaT  3.47          \n",
       "4   True      False         2021-05-04                      NaT  3.33          \n",
       "\n",
       "  country          converted  \n",
       "0          France   True      \n",
       "1  United Kingdom   True      \n",
       "2         Germany  False      \n",
       "3     Switzerland   True      \n",
       "4   United States   True      "
      ]
     },
     "execution_count": 790,
     "metadata": {},
     "output_type": "execute_result"
    }
   ],
   "source": [
    "df.head()"
   ]
  },
  {
   "cell_type": "code",
   "execution_count": 791,
   "id": "5a8115e6-520b-4ba6-ac99-5c6c6ec2b9f9",
   "metadata": {
    "tags": []
   },
   "outputs": [],
   "source": [
    "df['signup_cohort_month'] = df['signup_date'].dt.to_period('M')\n",
    "df['conversion_cohort_month'] = df['conversion_date'].dt.to_period('M')"
   ]
  },
  {
   "cell_type": "code",
   "execution_count": 792,
   "id": "ed123847-40db-4b72-b635-c02ff1226402",
   "metadata": {
    "tags": []
   },
   "outputs": [],
   "source": [
    "pd.set_option('display.max_rows', 30)"
   ]
  },
  {
   "cell_type": "code",
   "execution_count": 793,
   "id": "632d725e-6fa1-4d24-a46c-809fde77c97f",
   "metadata": {
    "tags": []
   },
   "outputs": [
    {
     "data": {
      "text/plain": [
       "2022-11    13795\n",
       "2022-10    10929\n",
       "2022-12    10144\n",
       "2021-12     8884\n",
       "2022-09     8472\n",
       "2022-02     8302\n",
       "2022-01     7998\n",
       "2022-03     7466\n",
       "2021-11     7258\n",
       "2022-08     7209\n",
       "2022-07     7072\n",
       "2022-06     6275\n",
       "2022-05     6144\n",
       "2022-04     6116\n",
       "2023-01     5653\n",
       "2021-10     3519\n",
       "2021-09     2765\n",
       "2021-08     1848\n",
       "2021-05     1747\n",
       "2021-07     1129\n",
       "2021-06     1069\n",
       "2021-04      808\n",
       "Freq: M, Name: signup_cohort_month, dtype: int64"
      ]
     },
     "execution_count": 793,
     "metadata": {},
     "output_type": "execute_result"
    }
   ],
   "source": [
    "df['signup_cohort_month'].value_counts()"
   ]
  },
  {
   "cell_type": "code",
   "execution_count": 794,
   "id": "b4c7744c-193a-4255-895e-62bff952ef67",
   "metadata": {
    "tags": []
   },
   "outputs": [],
   "source": [
    "df['today'] = pd.Timestamp.today()"
   ]
  },
  {
   "cell_type": "code",
   "execution_count": 795,
   "id": "eafad5ae-4a5e-4728-a223-193d0575ed76",
   "metadata": {
    "tags": []
   },
   "outputs": [],
   "source": [
    "df['last_active_date'] = np.where(df['is_active'], df['today'], df['cancellation_date'])\n",
    "df['last_paid_date'] = np.where(~df['is_canceled'], df['today'], df['cancellation_date'])"
   ]
  },
  {
   "cell_type": "code",
   "execution_count": 796,
   "id": "17147fa9-01e8-4f15-b1d4-abe62631be66",
   "metadata": {
    "tags": []
   },
   "outputs": [],
   "source": [
    "df['lifetime_months'] = df.apply(\n",
    "    lambda row: relativedelta(row['last_active_date'], row['signup_date']).months +\n",
    "                relativedelta(row['last_active_date'], row['signup_date']).years * 12\n",
    "                if pd.notnull(row['signup_date']) and pd.notnull(row['last_active_date'])\n",
    "                else np.nan, axis=1)\n",
    "df['revenue_months'] = df.apply(\n",
    "    lambda row: relativedelta(row['last_paid_date'], row['conversion_date']).months +\n",
    "                relativedelta(row['last_paid_date'], row['conversion_date']).years * 12\n",
    "                if pd.notnull(row['conversion_date']) and pd.notnull(row['last_paid_date'])\n",
    "                else np.nan, axis=1)\n"
   ]
  },
  {
   "cell_type": "markdown",
   "id": "356c5911-a485-4bdf-9aba-bb47095aa384",
   "metadata": {},
   "source": [
    "### Chart: Delinquency by cohort"
   ]
  },
  {
   "cell_type": "code",
   "execution_count": 797,
   "id": "9ed15262-8a11-4eef-8f03-ffbb7f170612",
   "metadata": {
    "tags": []
   },
   "outputs": [],
   "source": [
    "del_den = df[df['converted']].groupby('conversion_cohort_month')['oid'].agg('count').reset_index().rename(columns={'oid': 'total'})\n",
    "del_num = df[(df['converted'] & df['is_delinquent'])].groupby('conversion_cohort_month')['oid'].agg('count').reset_index().rename(columns={'oid': 'delinquent'})"
   ]
  },
  {
   "cell_type": "code",
   "execution_count": 798,
   "id": "139bb8b6-6f69-4a8c-bdec-0ea69f8a8a09",
   "metadata": {
    "tags": []
   },
   "outputs": [],
   "source": [
    "dfdel = del_den.merge(del_num, on='conversion_cohort_month', how='left')\n",
    "dfdel = dfdel.fillna(0.0)"
   ]
  },
  {
   "cell_type": "code",
   "execution_count": 799,
   "id": "9984adc6-4795-4137-babc-b7717ba7b29a",
   "metadata": {
    "tags": []
   },
   "outputs": [],
   "source": [
    "dfdel['delinquency_rate'] = dfdel['delinquent'] / dfdel['total']"
   ]
  },
  {
   "cell_type": "code",
   "execution_count": 800,
   "id": "49b5fcbe-8276-4266-bd23-41f6445ebb6a",
   "metadata": {
    "tags": []
   },
   "outputs": [
    {
     "data": {
      "image/png": "[encoded data removed]",
      "text/plain": [
       "<Figure size 640x480 with 1 Axes>"
      ]
     },
     "metadata": {},
     "output_type": "display_data"
    }
   ],
   "source": [
    "dfdel.set_index('conversion_cohort_month', inplace=True)\n",
    "dfdel['delinquency_rate'].plot(kind='bar')\n",
    "plt.xlabel('Month of Conversion')\n",
    "plt.ylabel('Delinquency Rate')\n",
    "plt.title('Delinquency Rate by Month')\n",
    "plt.show()\n"
   ]
  },
  {
   "cell_type": "markdown",
   "id": "386ede86-07a8-40c5-b6d5-3fb40b1066ea",
   "metadata": {},
   "source": [
    "### Chart:  Revenue expansion\n",
    "Evaluate revenue expansion based on the whether the current MRR for a given customer is greater than that customer's average monthly payment since they converted. \n",
    "\n",
    "The calculation is: \n",
    "rev_growth_ratio = current_mrr / (total_charges/revenue_months)\n",
    "\n",
    "A rev_growth_ratio greater than 1.0 indicates revenue expansion over the time period when the customer has been paying. "
   ]
  },
  {
   "cell_type": "code",
   "execution_count": 841,
   "id": "6849d760-080f-4b5a-a78f-66a0872bbc41",
   "metadata": {
    "tags": []
   },
   "outputs": [],
   "source": [
    "df['rev_growth_ratio'] = np.where(df['total_charges'], df['current_mrr'] / df['total_charges'] * df['revenue_months'], 1.0)"
   ]
  },
  {
   "cell_type": "code",
   "execution_count": 857,
   "id": "5abdaec8-82da-4d04-9422-56b807cf3691",
   "metadata": {
    "tags": []
   },
   "outputs": [],
   "source": [
    "dfgrowth = df[df['converted'] & (df['total_charges'] > 0)]\n",
    "dfgrowth = dfgrowth.groupby('conversion_cohort_month')['rev_growth_ratio'].mean().reset_index()\n",
    "dfgrowth.set_index('conversion_cohort_month', inplace=True)"
   ]
  },
  {
   "cell_type": "code",
   "execution_count": 858,
   "id": "e2b29021-8f20-41ca-a7fd-b00f0d976c21",
   "metadata": {
    "tags": []
   },
   "outputs": [
    {
     "data": {
      "image/png": "[encoded data removed]",
      "text/plain": [
       "<Figure size 640x480 with 1 Axes>"
      ]
     },
     "metadata": {},
     "output_type": "display_data"
    }
   ],
   "source": [
    "dfgrowth['rev_growth_ratio'].plot(kind='bar')\n",
    "plt.xlabel('Month of Conversion')\n",
    "plt.ylabel('Revenue Growth Rate')\n",
    "plt.title('Revenue Growth Rate (current / lifetime average) by Month')\n",
    "plt.show()"
   ]
  },
  {
   "cell_type": "code",
   "execution_count": null,
   "id": "d727b225-edab-4f08-8df5-5e6013084366",
   "metadata": {},
   "outputs": [],
   "source": []
  }
 ],
 "metadata": {
  "kernelspec": {
   "display_name": "Python 3 (ipykernel)",
   "language": "python",
   "name": "python3"
  },
  "language_info": {
   "codemirror_mode": {
    "name": "ipython",
    "version": 3
   },
   "file_extension": ".py",
   "mimetype": "text/x-python",
   "name": "python",
   "nbconvert_exporter": "python",
   "pygments_lexer": "ipython3",
   "version": "3.11.4"
  }
 },
 "nbformat": 4,
 "nbformat_minor": 5
}
